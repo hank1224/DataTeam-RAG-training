{
 "cells": [
  {
   "cell_type": "code",
   "execution_count": 1,
   "metadata": {
    "cellView": "form",
    "executionInfo": {
     "elapsed": 20015,
     "status": "ok",
     "timestamp": 1736410163172,
     "user": {
      "displayName": "許銘軒",
      "userId": "05699376018426595761"
     },
     "user_tz": -480
    },
    "id": "jPIRSGz4tHNV"
   },
   "outputs": [],
   "source": [
    "from langchain_core.runnables import RunnablePassthrough\n",
    "from langchain_core.prompts import ChatPromptTemplate\n",
    "from langchain_core.output_parsers import StrOutputParser\n",
    "from langchain_community.vectorstores.neo4j_vector import remove_lucene_chars\n",
    "from langchain_experimental.graph_transformers import LLMGraphTransformer\n",
    "\n",
    "from neo4j import GraphDatabase\n",
    "\n",
    "from pydantic import BaseModel, Field\n",
    "from rich import print as pprint\n",
    "import os\n",
    "\n",
    "from dotenv import load_dotenv\n",
    "load_dotenv(\".env\")\n",
    "\n",
    "# add an environment variables\n",
    "os.environ[\"NEO4J_URI\"] = os.environ[\"LC_NEO4J_URI\"]\n",
    "os.environ[\"NEO4J_USERNAME\"] = os.environ[\"LC_NEO4J_USERNAME\"]\n",
    "os.environ[\"NEO4J_PASSWORD\"] = os.environ[\"LC_NEO4J_PASSWORD\"]\n",
    "\n",
    "from langchain_openai import AzureChatOpenAI, AzureOpenAIEmbeddings\n",
    "\n",
    "gpt4o = AzureChatOpenAI(\n",
    "    api_key=os.environ[\"MY_AZURE_OPENAI_API_KEY\"],\n",
    "    azure_endpoint = os.environ[\"MY_AZURE_OPENAI_ENDPOINT\"],\n",
    "    azure_deployment = os.environ[\"MY_AZURE_OPENAI_DEPLOYMENT_NAME_CHAT\"],\n",
    "    openai_api_version = os.environ[\"AZURE_OPENAI_API_VERSION\"],\n",
    "    temperature=0\n",
    ")\n",
    "\n",
    "embeddings = AzureOpenAIEmbeddings(\n",
    "    azure_endpoint = os.environ[\"AZURE_OPENAI_ENDPOINT\"],\n",
    "    azure_deployment = os.environ[\"AZURE_OPENAI_DEPLOYMENT_NAME_EMBEDDINGS\"],\n",
    "    openai_api_version = os.environ[\"AZURE_OPENAI_API_VERSION\"],\n",
    ")\n"
   ]
  },
  {
   "cell_type": "code",
   "execution_count": 2,
   "metadata": {
    "cellView": "form",
    "colab": {
     "base_uri": "https://localhost:8080/"
    },
    "executionInfo": {
     "elapsed": 5207,
     "status": "ok",
     "timestamp": 1736410171206,
     "user": {
      "displayName": "許銘軒",
      "userId": "05699376018426595761"
     },
     "user_tz": -480
    },
    "id": "L0nXP1aYtHNW",
    "outputId": "97130841-5fa8-4264-c260-ceed86506173"
   },
   "outputs": [],
   "source": [
    "#@markdown <a id=\"connect_db\" name=\"connect_db\"></a>\n",
    "#@markdown # **步驟 3：連線圖形資料庫** 📃\n",
    "#@markdown 根據剛剛所提供的金鑰，讓程式連上資料庫\n",
    "#@markdown ---\n",
    "\n",
    "from langchain_neo4j import Neo4jGraph, Neo4jVector\n",
    "\n",
    "graph = Neo4jGraph(\n",
    "    url = os.environ[\"LC_NEO4J_URI\"],\n",
    "    username = os.environ[\"LC_NEO4J_USERNAME\"],\n",
    "    password = os.environ[\"LC_NEO4J_PASSWORD\"]\n",
    ")"
   ]
  },
  {
   "cell_type": "code",
   "execution_count": 3,
   "metadata": {
    "cellView": "form",
    "colab": {
     "base_uri": "https://localhost:8080/"
    },
    "executionInfo": {
     "elapsed": 1014,
     "status": "ok",
     "timestamp": 1733906833998,
     "user": {
      "displayName": "許銘軒",
      "userId": "05699376018426595761"
     },
     "user_tz": -480
    },
    "id": "MsiWPJ7KgjJq",
    "outputId": "80ea9ccb-73a2-4e14-abc7-9a490961f149"
   },
   "outputs": [
    {
     "data": {
      "text/plain": [
       "[]"
      ]
     },
     "execution_count": 3,
     "metadata": {},
     "output_type": "execute_result"
    }
   ],
   "source": [
    "#@markdown <a id=\"connect_db\" name=\"connect_db\"></a>\n",
    "#@markdown # **步驟(視情況決定做不做)：刪除圖形資料庫的所有資料** 📃\n",
    "#@markdown 如果換了一篇文章，就需要執行\n",
    "#@markdown ---\n",
    "\n",
    "# 刪除所有節點和關係的 Cypher 語法\n",
    "graph.query(\"MATCH (n) DETACH DELETE n\")\n",
    "# 刪除向量索引的 Cypher 語法\n",
    "graph.query(\"DROP INDEX vector IF EXISTS\")"
   ]
  },
  {
   "cell_type": "code",
   "execution_count": 4,
   "metadata": {
    "cellView": "form",
    "id": "sGhtLTAStHNW"
   },
   "outputs": [],
   "source": [
    "from langchain_community.document_loaders import TextLoader, MergedDataLoader\n",
    "from langchain.text_splitter import RecursiveCharacterTextSplitter\n",
    "\n",
    "loader_1 = TextLoader(\"./data/90-Romance-of-the-Three-Kingdoms.txt\")\n",
    "loader_2 = TextLoader(\"./data/91-Romance-of-the-Three-Kingdoms.txt\")\n",
    "loader_3 = TextLoader(\"./data/92-Romance-of-the-Three-Kingdoms.txt\")\n",
    "\n",
    "docs = MergedDataLoader(loaders=[loader_1, loader_2, loader_3]).load()\n",
    "\n",
    "# 擷取文件內容\n",
    "# loader = TextLoader(file_path=\"./data/92-Romance-of-the-Three-Kingdoms.txt\")\n",
    "# docs = loader.load()    # 回傳 Document 物件\n",
    "\n",
    "text_splitter = RecursiveCharacterTextSplitter(chunk_size=250, chunk_overlap=24)\n",
    "documents = text_splitter.split_documents(documents=docs)"
   ]
  },
  {
   "cell_type": "code",
   "execution_count": 5,
   "metadata": {
    "colab": {
     "base_uri": "https://localhost:8080/",
     "height": 329
    },
    "executionInfo": {
     "elapsed": 282,
     "status": "ok",
     "timestamp": 1733906954632,
     "user": {
      "displayName": "許銘軒",
      "userId": "05699376018426595761"
     },
     "user_tz": -480
    },
    "id": "4fhYFoMxgjJr",
    "outputId": "9c492019-d532-4093-99c1-ee00e20a3e60"
   },
   "outputs": [
    {
     "name": "stdout",
     "output_type": "stream",
     "text": [
      "[Document(metadata={'source': './data/90-Romance-of-the-Three-Kingdoms.txt'}, page_content='第九十回：驅巨獸六破蠻兵，燒藤甲七擒孟獲\\n卻說孔明放了孟獲等一干人，楊鋒父子皆封官爵，重賞洞兵。楊鋒等拜謝而去。孟獲等連夜奔回銀坑洞。那洞外有三江：乃是瀘水、甘南水、西城水。三路水會合，故為三江。其洞北近平坦二百餘里，多產萬物；洞西二百餘里，有鹽井；西南二百里，直抵瀘、甘；正南三百里，乃是梁都洞。洞中有山，環抱其洞；山上出銀礦，故名為銀坑山。山中置宮殿樓臺，以為蠻王巢穴。'), Document(metadata={'source': './data/90-Romance-of-the-Three-Kingdoms.txt'}, page_content='其中建一祖廟，名曰「家鬼」。四時殺牛宰馬享祭。名曰「卜鬼」。每年常以蜀人并外鄉之人祭之。若人患病，不肯服藥，只禱師巫，名為「藥鬼。」其處無刑法，但犯罪即斬。有女長成，卻於溪中沐浴，男女自相混淆，任其自配，父母不禁，名為「學藝」。年歲雨水均調，則種稻穀；倘若不熟，殺蛇為羹，煮象為飯。每方隅之中，上戶號曰：「洞主」，次日「酋長」。每月初一十五兩日，皆在三江城中買賣，轉易貨物。其風俗如此。')]\n"
     ]
    }
   ],
   "source": [
    "print(documents[0:2])"
   ]
  },
  {
   "cell_type": "code",
   "execution_count": 6,
   "metadata": {
    "cellView": "form",
    "colab": {
     "base_uri": "https://localhost:8080/"
    },
    "executionInfo": {
     "elapsed": 373222,
     "status": "ok",
     "timestamp": 1733907336126,
     "user": {
      "displayName": "許銘軒",
      "userId": "05699376018426595761"
     },
     "user_tz": -480
    },
    "id": "pXf7OTGHtHNW",
    "outputId": "f55f5da6-fa56-49fe-e186-9598315e2ad0"
   },
   "outputs": [
    {
     "name": "stdout",
     "output_type": "stream",
     "text": [
      "Total number of graph documents: 98\n"
     ]
    }
   ],
   "source": [
    "#@markdown <a id=\"connect_db\" name=\"connect_db\"></a>\n",
    "#@markdown # **步驟5：建立知識圖譜** 📃\n",
    "#@markdown 將文本透過LLM建立知識圖譜\n",
    "#@markdown ---\n",
    "\n",
    "# 指定 llm_transformer\n",
    "llm_transformer = LLMGraphTransformer(llm=gpt4o)\n",
    "\n",
    "# 逐段轉換為 GraphDocument\n",
    "graph_documents = []\n",
    "for document in documents:\n",
    "    try:\n",
    "        graph_doc = llm_transformer.convert_to_graph_documents([document])\n",
    "        graph_documents.extend(graph_doc)\n",
    "    except Exception as e:\n",
    "        print(f\"Error processing document chunk: {e}\")\n",
    "\n",
    "# 合併結果\n",
    "# 你可以將所有的 GraphDocument 合併，然後進行後續的知識圖譜處理\n",
    "\n",
    "print(f\"Total number of graph documents: {len(graph_documents)}\")\n",
    "\n",
    "# 將 GraphDocument List 實際存入資料庫中\n",
    "graph.add_graph_documents(\n",
    "    graph_documents,            # 指定 GraphDocument List\n",
    "    baseEntityLabel=True,       # 是否為每個 Entity 設定標籤，例如看到人名就 Label 為 Person。有助於後續知識圖譜搜尋\n",
    "    include_source=True         # 是否註明每個實體或關係的來源。有助於追溯資料來源\n",
    ")\n",
    "\n",
    "# 針對每個 Node 建 index\n",
    "driver = GraphDatabase.driver(\n",
    "        uri = os.environ[\"LC_NEO4J_URI\"],\n",
    "        auth = (\"neo4j\", os.environ[\"LC_NEO4J_PASSWORD\"]))\n",
    "\n",
    "def create_fulltext_index(tx):\n",
    "    query = '''\n",
    "    CREATE FULLTEXT INDEX `fulltext_entity_id`\n",
    "    FOR (n:__Entity__)\n",
    "    ON EACH [n.id];\n",
    "    '''\n",
    "    tx.run(query)\n",
    "\n",
    "# Function to execute the query\n",
    "def create_index():\n",
    "    with driver.session() as session:\n",
    "        session.execute_write(create_fulltext_index)\n",
    "        print(\"Fulltext index created successfully.\")\n",
    "\n",
    "# Call the function to create the index\n",
    "try:\n",
    "    create_index()\n",
    "except:\n",
    "    pass\n",
    "\n",
    "# Close the driver connection\n",
    "driver.close()"
   ]
  },
  {
   "cell_type": "code",
   "execution_count": 7,
   "metadata": {
    "colab": {
     "base_uri": "https://localhost:8080/",
     "height": 1000
    },
    "executionInfo": {
     "elapsed": 495,
     "status": "ok",
     "timestamp": 1733907341697,
     "user": {
      "displayName": "許銘軒",
      "userId": "05699376018426595761"
     },
     "user_tz": -480
    },
    "id": "HvRTOta0gjJs",
    "outputId": "1c3079eb-f163-40e6-ba67-eb19bea200f8"
   },
   "outputs": [
    {
     "data": {
      "text/html": [
       "<pre style=\"white-space:pre;overflow-x:auto;line-height:normal;font-family:Menlo,'DejaVu Sans Mono',consolas,'Courier New',monospace\"><span style=\"font-weight: bold\">[</span>\n",
       "    <span style=\"color: #800080; text-decoration-color: #800080; font-weight: bold\">GraphDocument</span><span style=\"font-weight: bold\">(</span>\n",
       "        <span style=\"color: #808000; text-decoration-color: #808000\">nodes</span>=<span style=\"font-weight: bold\">[</span>\n",
       "            <span style=\"color: #800080; text-decoration-color: #800080; font-weight: bold\">Node</span><span style=\"font-weight: bold\">(</span><span style=\"color: #808000; text-decoration-color: #808000\">id</span>=<span style=\"color: #008000; text-decoration-color: #008000\">'孔明'</span>, <span style=\"color: #808000; text-decoration-color: #808000\">type</span>=<span style=\"color: #008000; text-decoration-color: #008000\">'Person'</span>, <span style=\"color: #808000; text-decoration-color: #808000\">properties</span>=<span style=\"font-weight: bold\">{})</span>,\n",
       "            <span style=\"color: #800080; text-decoration-color: #800080; font-weight: bold\">Node</span><span style=\"font-weight: bold\">(</span><span style=\"color: #808000; text-decoration-color: #808000\">id</span>=<span style=\"color: #008000; text-decoration-color: #008000\">'孟獲'</span>, <span style=\"color: #808000; text-decoration-color: #808000\">type</span>=<span style=\"color: #008000; text-decoration-color: #008000\">'Person'</span>, <span style=\"color: #808000; text-decoration-color: #808000\">properties</span>=<span style=\"font-weight: bold\">{})</span>,\n",
       "            <span style=\"color: #800080; text-decoration-color: #800080; font-weight: bold\">Node</span><span style=\"font-weight: bold\">(</span><span style=\"color: #808000; text-decoration-color: #808000\">id</span>=<span style=\"color: #008000; text-decoration-color: #008000\">'楊鋒'</span>, <span style=\"color: #808000; text-decoration-color: #808000\">type</span>=<span style=\"color: #008000; text-decoration-color: #008000\">'Person'</span>, <span style=\"color: #808000; text-decoration-color: #808000\">properties</span>=<span style=\"font-weight: bold\">{})</span>,\n",
       "            <span style=\"color: #800080; text-decoration-color: #800080; font-weight: bold\">Node</span><span style=\"font-weight: bold\">(</span><span style=\"color: #808000; text-decoration-color: #808000\">id</span>=<span style=\"color: #008000; text-decoration-color: #008000\">'楊鋒之子'</span>, <span style=\"color: #808000; text-decoration-color: #808000\">type</span>=<span style=\"color: #008000; text-decoration-color: #008000\">'Person'</span>, <span style=\"color: #808000; text-decoration-color: #808000\">properties</span>=<span style=\"font-weight: bold\">{})</span>,\n",
       "            <span style=\"color: #800080; text-decoration-color: #800080; font-weight: bold\">Node</span><span style=\"font-weight: bold\">(</span><span style=\"color: #808000; text-decoration-color: #808000\">id</span>=<span style=\"color: #008000; text-decoration-color: #008000\">'銀坑洞'</span>, <span style=\"color: #808000; text-decoration-color: #808000\">type</span>=<span style=\"color: #008000; text-decoration-color: #008000\">'Place'</span>, <span style=\"color: #808000; text-decoration-color: #808000\">properties</span>=<span style=\"font-weight: bold\">{})</span>,\n",
       "            <span style=\"color: #800080; text-decoration-color: #800080; font-weight: bold\">Node</span><span style=\"font-weight: bold\">(</span><span style=\"color: #808000; text-decoration-color: #808000\">id</span>=<span style=\"color: #008000; text-decoration-color: #008000\">'瀘水'</span>, <span style=\"color: #808000; text-decoration-color: #808000\">type</span>=<span style=\"color: #008000; text-decoration-color: #008000\">'Place'</span>, <span style=\"color: #808000; text-decoration-color: #808000\">properties</span>=<span style=\"font-weight: bold\">{})</span>,\n",
       "            <span style=\"color: #800080; text-decoration-color: #800080; font-weight: bold\">Node</span><span style=\"font-weight: bold\">(</span><span style=\"color: #808000; text-decoration-color: #808000\">id</span>=<span style=\"color: #008000; text-decoration-color: #008000\">'甘南水'</span>, <span style=\"color: #808000; text-decoration-color: #808000\">type</span>=<span style=\"color: #008000; text-decoration-color: #008000\">'Place'</span>, <span style=\"color: #808000; text-decoration-color: #808000\">properties</span>=<span style=\"font-weight: bold\">{})</span>,\n",
       "            <span style=\"color: #800080; text-decoration-color: #800080; font-weight: bold\">Node</span><span style=\"font-weight: bold\">(</span><span style=\"color: #808000; text-decoration-color: #808000\">id</span>=<span style=\"color: #008000; text-decoration-color: #008000\">'西城水'</span>, <span style=\"color: #808000; text-decoration-color: #808000\">type</span>=<span style=\"color: #008000; text-decoration-color: #008000\">'Place'</span>, <span style=\"color: #808000; text-decoration-color: #808000\">properties</span>=<span style=\"font-weight: bold\">{})</span>,\n",
       "            <span style=\"color: #800080; text-decoration-color: #800080; font-weight: bold\">Node</span><span style=\"font-weight: bold\">(</span><span style=\"color: #808000; text-decoration-color: #808000\">id</span>=<span style=\"color: #008000; text-decoration-color: #008000\">'三江'</span>, <span style=\"color: #808000; text-decoration-color: #808000\">type</span>=<span style=\"color: #008000; text-decoration-color: #008000\">'Place'</span>, <span style=\"color: #808000; text-decoration-color: #808000\">properties</span>=<span style=\"font-weight: bold\">{})</span>,\n",
       "            <span style=\"color: #800080; text-decoration-color: #800080; font-weight: bold\">Node</span><span style=\"font-weight: bold\">(</span><span style=\"color: #808000; text-decoration-color: #808000\">id</span>=<span style=\"color: #008000; text-decoration-color: #008000\">'鹽井'</span>, <span style=\"color: #808000; text-decoration-color: #808000\">type</span>=<span style=\"color: #008000; text-decoration-color: #008000\">'Place'</span>, <span style=\"color: #808000; text-decoration-color: #808000\">properties</span>=<span style=\"font-weight: bold\">{})</span>,\n",
       "            <span style=\"color: #800080; text-decoration-color: #800080; font-weight: bold\">Node</span><span style=\"font-weight: bold\">(</span><span style=\"color: #808000; text-decoration-color: #808000\">id</span>=<span style=\"color: #008000; text-decoration-color: #008000\">'梁都洞'</span>, <span style=\"color: #808000; text-decoration-color: #808000\">type</span>=<span style=\"color: #008000; text-decoration-color: #008000\">'Place'</span>, <span style=\"color: #808000; text-decoration-color: #808000\">properties</span>=<span style=\"font-weight: bold\">{})</span>,\n",
       "            <span style=\"color: #800080; text-decoration-color: #800080; font-weight: bold\">Node</span><span style=\"font-weight: bold\">(</span><span style=\"color: #808000; text-decoration-color: #808000\">id</span>=<span style=\"color: #008000; text-decoration-color: #008000\">'銀坑山'</span>, <span style=\"color: #808000; text-decoration-color: #808000\">type</span>=<span style=\"color: #008000; text-decoration-color: #008000\">'Place'</span>, <span style=\"color: #808000; text-decoration-color: #808000\">properties</span>=<span style=\"font-weight: bold\">{})</span>\n",
       "        <span style=\"font-weight: bold\">]</span>,\n",
       "        <span style=\"color: #808000; text-decoration-color: #808000\">relationships</span>=<span style=\"font-weight: bold\">[</span>\n",
       "            <span style=\"color: #800080; text-decoration-color: #800080; font-weight: bold\">Relationship</span><span style=\"font-weight: bold\">(</span>\n",
       "                <span style=\"color: #808000; text-decoration-color: #808000\">source</span>=<span style=\"color: #800080; text-decoration-color: #800080; font-weight: bold\">Node</span><span style=\"font-weight: bold\">(</span><span style=\"color: #808000; text-decoration-color: #808000\">id</span>=<span style=\"color: #008000; text-decoration-color: #008000\">'孔明'</span>, <span style=\"color: #808000; text-decoration-color: #808000\">type</span>=<span style=\"color: #008000; text-decoration-color: #008000\">'Person'</span>, <span style=\"color: #808000; text-decoration-color: #808000\">properties</span>=<span style=\"font-weight: bold\">{})</span>,\n",
       "                <span style=\"color: #808000; text-decoration-color: #808000\">target</span>=<span style=\"color: #800080; text-decoration-color: #800080; font-weight: bold\">Node</span><span style=\"font-weight: bold\">(</span><span style=\"color: #808000; text-decoration-color: #808000\">id</span>=<span style=\"color: #008000; text-decoration-color: #008000\">'孟獲'</span>, <span style=\"color: #808000; text-decoration-color: #808000\">type</span>=<span style=\"color: #008000; text-decoration-color: #008000\">'Person'</span>, <span style=\"color: #808000; text-decoration-color: #808000\">properties</span>=<span style=\"font-weight: bold\">{})</span>,\n",
       "                <span style=\"color: #808000; text-decoration-color: #808000\">type</span>=<span style=\"color: #008000; text-decoration-color: #008000\">'RELEASED'</span>,\n",
       "                <span style=\"color: #808000; text-decoration-color: #808000\">properties</span>=<span style=\"font-weight: bold\">{}</span>\n",
       "            <span style=\"font-weight: bold\">)</span>,\n",
       "            <span style=\"color: #800080; text-decoration-color: #800080; font-weight: bold\">Relationship</span><span style=\"font-weight: bold\">(</span>\n",
       "                <span style=\"color: #808000; text-decoration-color: #808000\">source</span>=<span style=\"color: #800080; text-decoration-color: #800080; font-weight: bold\">Node</span><span style=\"font-weight: bold\">(</span><span style=\"color: #808000; text-decoration-color: #808000\">id</span>=<span style=\"color: #008000; text-decoration-color: #008000\">'孔明'</span>, <span style=\"color: #808000; text-decoration-color: #808000\">type</span>=<span style=\"color: #008000; text-decoration-color: #008000\">'Person'</span>, <span style=\"color: #808000; text-decoration-color: #808000\">properties</span>=<span style=\"font-weight: bold\">{})</span>,\n",
       "                <span style=\"color: #808000; text-decoration-color: #808000\">target</span>=<span style=\"color: #800080; text-decoration-color: #800080; font-weight: bold\">Node</span><span style=\"font-weight: bold\">(</span><span style=\"color: #808000; text-decoration-color: #808000\">id</span>=<span style=\"color: #008000; text-decoration-color: #008000\">'楊鋒'</span>, <span style=\"color: #808000; text-decoration-color: #808000\">type</span>=<span style=\"color: #008000; text-decoration-color: #008000\">'Person'</span>, <span style=\"color: #808000; text-decoration-color: #808000\">properties</span>=<span style=\"font-weight: bold\">{})</span>,\n",
       "                <span style=\"color: #808000; text-decoration-color: #808000\">type</span>=<span style=\"color: #008000; text-decoration-color: #008000\">'REWARDED'</span>,\n",
       "                <span style=\"color: #808000; text-decoration-color: #808000\">properties</span>=<span style=\"font-weight: bold\">{}</span>\n",
       "            <span style=\"font-weight: bold\">)</span>,\n",
       "            <span style=\"color: #800080; text-decoration-color: #800080; font-weight: bold\">Relationship</span><span style=\"font-weight: bold\">(</span>\n",
       "                <span style=\"color: #808000; text-decoration-color: #808000\">source</span>=<span style=\"color: #800080; text-decoration-color: #800080; font-weight: bold\">Node</span><span style=\"font-weight: bold\">(</span><span style=\"color: #808000; text-decoration-color: #808000\">id</span>=<span style=\"color: #008000; text-decoration-color: #008000\">'孔明'</span>, <span style=\"color: #808000; text-decoration-color: #808000\">type</span>=<span style=\"color: #008000; text-decoration-color: #008000\">'Person'</span>, <span style=\"color: #808000; text-decoration-color: #808000\">properties</span>=<span style=\"font-weight: bold\">{})</span>,\n",
       "                <span style=\"color: #808000; text-decoration-color: #808000\">target</span>=<span style=\"color: #800080; text-decoration-color: #800080; font-weight: bold\">Node</span><span style=\"font-weight: bold\">(</span><span style=\"color: #808000; text-decoration-color: #808000\">id</span>=<span style=\"color: #008000; text-decoration-color: #008000\">'楊鋒之子'</span>, <span style=\"color: #808000; text-decoration-color: #808000\">type</span>=<span style=\"color: #008000; text-decoration-color: #008000\">'Person'</span>, <span style=\"color: #808000; text-decoration-color: #808000\">properties</span>=<span style=\"font-weight: bold\">{})</span>,\n",
       "                <span style=\"color: #808000; text-decoration-color: #808000\">type</span>=<span style=\"color: #008000; text-decoration-color: #008000\">'REWARDED'</span>,\n",
       "                <span style=\"color: #808000; text-decoration-color: #808000\">properties</span>=<span style=\"font-weight: bold\">{}</span>\n",
       "            <span style=\"font-weight: bold\">)</span>,\n",
       "            <span style=\"color: #800080; text-decoration-color: #800080; font-weight: bold\">Relationship</span><span style=\"font-weight: bold\">(</span>\n",
       "                <span style=\"color: #808000; text-decoration-color: #808000\">source</span>=<span style=\"color: #800080; text-decoration-color: #800080; font-weight: bold\">Node</span><span style=\"font-weight: bold\">(</span><span style=\"color: #808000; text-decoration-color: #808000\">id</span>=<span style=\"color: #008000; text-decoration-color: #008000\">'楊鋒'</span>, <span style=\"color: #808000; text-decoration-color: #808000\">type</span>=<span style=\"color: #008000; text-decoration-color: #008000\">'Person'</span>, <span style=\"color: #808000; text-decoration-color: #808000\">properties</span>=<span style=\"font-weight: bold\">{})</span>,\n",
       "                <span style=\"color: #808000; text-decoration-color: #808000\">target</span>=<span style=\"color: #800080; text-decoration-color: #800080; font-weight: bold\">Node</span><span style=\"font-weight: bold\">(</span><span style=\"color: #808000; text-decoration-color: #808000\">id</span>=<span style=\"color: #008000; text-decoration-color: #008000\">'孔明'</span>, <span style=\"color: #808000; text-decoration-color: #808000\">type</span>=<span style=\"color: #008000; text-decoration-color: #008000\">'Person'</span>, <span style=\"color: #808000; text-decoration-color: #808000\">properties</span>=<span style=\"font-weight: bold\">{})</span>,\n",
       "                <span style=\"color: #808000; text-decoration-color: #808000\">type</span>=<span style=\"color: #008000; text-decoration-color: #008000\">'THANKED'</span>,\n",
       "                <span style=\"color: #808000; text-decoration-color: #808000\">properties</span>=<span style=\"font-weight: bold\">{}</span>\n",
       "            <span style=\"font-weight: bold\">)</span>,\n",
       "            <span style=\"color: #800080; text-decoration-color: #800080; font-weight: bold\">Relationship</span><span style=\"font-weight: bold\">(</span>\n",
       "                <span style=\"color: #808000; text-decoration-color: #808000\">source</span>=<span style=\"color: #800080; text-decoration-color: #800080; font-weight: bold\">Node</span><span style=\"font-weight: bold\">(</span><span style=\"color: #808000; text-decoration-color: #808000\">id</span>=<span style=\"color: #008000; text-decoration-color: #008000\">'楊鋒之子'</span>, <span style=\"color: #808000; text-decoration-color: #808000\">type</span>=<span style=\"color: #008000; text-decoration-color: #008000\">'Person'</span>, <span style=\"color: #808000; text-decoration-color: #808000\">properties</span>=<span style=\"font-weight: bold\">{})</span>,\n",
       "                <span style=\"color: #808000; text-decoration-color: #808000\">target</span>=<span style=\"color: #800080; text-decoration-color: #800080; font-weight: bold\">Node</span><span style=\"font-weight: bold\">(</span><span style=\"color: #808000; text-decoration-color: #808000\">id</span>=<span style=\"color: #008000; text-decoration-color: #008000\">'孔明'</span>, <span style=\"color: #808000; text-decoration-color: #808000\">type</span>=<span style=\"color: #008000; text-decoration-color: #008000\">'Person'</span>, <span style=\"color: #808000; text-decoration-color: #808000\">properties</span>=<span style=\"font-weight: bold\">{})</span>,\n",
       "                <span style=\"color: #808000; text-decoration-color: #808000\">type</span>=<span style=\"color: #008000; text-decoration-color: #008000\">'THANKED'</span>,\n",
       "                <span style=\"color: #808000; text-decoration-color: #808000\">properties</span>=<span style=\"font-weight: bold\">{}</span>\n",
       "            <span style=\"font-weight: bold\">)</span>,\n",
       "            <span style=\"color: #800080; text-decoration-color: #800080; font-weight: bold\">Relationship</span><span style=\"font-weight: bold\">(</span>\n",
       "                <span style=\"color: #808000; text-decoration-color: #808000\">source</span>=<span style=\"color: #800080; text-decoration-color: #800080; font-weight: bold\">Node</span><span style=\"font-weight: bold\">(</span><span style=\"color: #808000; text-decoration-color: #808000\">id</span>=<span style=\"color: #008000; text-decoration-color: #008000\">'孟獲'</span>, <span style=\"color: #808000; text-decoration-color: #808000\">type</span>=<span style=\"color: #008000; text-decoration-color: #008000\">'Person'</span>, <span style=\"color: #808000; text-decoration-color: #808000\">properties</span>=<span style=\"font-weight: bold\">{})</span>,\n",
       "                <span style=\"color: #808000; text-decoration-color: #808000\">target</span>=<span style=\"color: #800080; text-decoration-color: #800080; font-weight: bold\">Node</span><span style=\"font-weight: bold\">(</span><span style=\"color: #808000; text-decoration-color: #808000\">id</span>=<span style=\"color: #008000; text-decoration-color: #008000\">'銀坑洞'</span>, <span style=\"color: #808000; text-decoration-color: #808000\">type</span>=<span style=\"color: #008000; text-decoration-color: #008000\">'Place'</span>, <span style=\"color: #808000; text-decoration-color: #808000\">properties</span>=<span style=\"font-weight: bold\">{})</span>,\n",
       "                <span style=\"color: #808000; text-decoration-color: #808000\">type</span>=<span style=\"color: #008000; text-decoration-color: #008000\">'RETURNED_TO'</span>,\n",
       "                <span style=\"color: #808000; text-decoration-color: #808000\">properties</span>=<span style=\"font-weight: bold\">{}</span>\n",
       "            <span style=\"font-weight: bold\">)</span>,\n",
       "            <span style=\"color: #800080; text-decoration-color: #800080; font-weight: bold\">Relationship</span><span style=\"font-weight: bold\">(</span>\n",
       "                <span style=\"color: #808000; text-decoration-color: #808000\">source</span>=<span style=\"color: #800080; text-decoration-color: #800080; font-weight: bold\">Node</span><span style=\"font-weight: bold\">(</span><span style=\"color: #808000; text-decoration-color: #808000\">id</span>=<span style=\"color: #008000; text-decoration-color: #008000\">'銀坑洞'</span>, <span style=\"color: #808000; text-decoration-color: #808000\">type</span>=<span style=\"color: #008000; text-decoration-color: #008000\">'Place'</span>, <span style=\"color: #808000; text-decoration-color: #808000\">properties</span>=<span style=\"font-weight: bold\">{})</span>,\n",
       "                <span style=\"color: #808000; text-decoration-color: #808000\">target</span>=<span style=\"color: #800080; text-decoration-color: #800080; font-weight: bold\">Node</span><span style=\"font-weight: bold\">(</span><span style=\"color: #808000; text-decoration-color: #808000\">id</span>=<span style=\"color: #008000; text-decoration-color: #008000\">'瀘水'</span>, <span style=\"color: #808000; text-decoration-color: #808000\">type</span>=<span style=\"color: #008000; text-decoration-color: #008000\">'Place'</span>, <span style=\"color: #808000; text-decoration-color: #808000\">properties</span>=<span style=\"font-weight: bold\">{})</span>,\n",
       "                <span style=\"color: #808000; text-decoration-color: #808000\">type</span>=<span style=\"color: #008000; text-decoration-color: #008000\">'CONTAINS'</span>,\n",
       "                <span style=\"color: #808000; text-decoration-color: #808000\">properties</span>=<span style=\"font-weight: bold\">{}</span>\n",
       "            <span style=\"font-weight: bold\">)</span>,\n",
       "            <span style=\"color: #800080; text-decoration-color: #800080; font-weight: bold\">Relationship</span><span style=\"font-weight: bold\">(</span>\n",
       "                <span style=\"color: #808000; text-decoration-color: #808000\">source</span>=<span style=\"color: #800080; text-decoration-color: #800080; font-weight: bold\">Node</span><span style=\"font-weight: bold\">(</span><span style=\"color: #808000; text-decoration-color: #808000\">id</span>=<span style=\"color: #008000; text-decoration-color: #008000\">'銀坑洞'</span>, <span style=\"color: #808000; text-decoration-color: #808000\">type</span>=<span style=\"color: #008000; text-decoration-color: #008000\">'Place'</span>, <span style=\"color: #808000; text-decoration-color: #808000\">properties</span>=<span style=\"font-weight: bold\">{})</span>,\n",
       "                <span style=\"color: #808000; text-decoration-color: #808000\">target</span>=<span style=\"color: #800080; text-decoration-color: #800080; font-weight: bold\">Node</span><span style=\"font-weight: bold\">(</span><span style=\"color: #808000; text-decoration-color: #808000\">id</span>=<span style=\"color: #008000; text-decoration-color: #008000\">'甘南水'</span>, <span style=\"color: #808000; text-decoration-color: #808000\">type</span>=<span style=\"color: #008000; text-decoration-color: #008000\">'Place'</span>, <span style=\"color: #808000; text-decoration-color: #808000\">properties</span>=<span style=\"font-weight: bold\">{})</span>,\n",
       "                <span style=\"color: #808000; text-decoration-color: #808000\">type</span>=<span style=\"color: #008000; text-decoration-color: #008000\">'CONTAINS'</span>,\n",
       "                <span style=\"color: #808000; text-decoration-color: #808000\">properties</span>=<span style=\"font-weight: bold\">{}</span>\n",
       "            <span style=\"font-weight: bold\">)</span>,\n",
       "            <span style=\"color: #800080; text-decoration-color: #800080; font-weight: bold\">Relationship</span><span style=\"font-weight: bold\">(</span>\n",
       "                <span style=\"color: #808000; text-decoration-color: #808000\">source</span>=<span style=\"color: #800080; text-decoration-color: #800080; font-weight: bold\">Node</span><span style=\"font-weight: bold\">(</span><span style=\"color: #808000; text-decoration-color: #808000\">id</span>=<span style=\"color: #008000; text-decoration-color: #008000\">'銀坑洞'</span>, <span style=\"color: #808000; text-decoration-color: #808000\">type</span>=<span style=\"color: #008000; text-decoration-color: #008000\">'Place'</span>, <span style=\"color: #808000; text-decoration-color: #808000\">properties</span>=<span style=\"font-weight: bold\">{})</span>,\n",
       "                <span style=\"color: #808000; text-decoration-color: #808000\">target</span>=<span style=\"color: #800080; text-decoration-color: #800080; font-weight: bold\">Node</span><span style=\"font-weight: bold\">(</span><span style=\"color: #808000; text-decoration-color: #808000\">id</span>=<span style=\"color: #008000; text-decoration-color: #008000\">'西城水'</span>, <span style=\"color: #808000; text-decoration-color: #808000\">type</span>=<span style=\"color: #008000; text-decoration-color: #008000\">'Place'</span>, <span style=\"color: #808000; text-decoration-color: #808000\">properties</span>=<span style=\"font-weight: bold\">{})</span>,\n",
       "                <span style=\"color: #808000; text-decoration-color: #808000\">type</span>=<span style=\"color: #008000; text-decoration-color: #008000\">'CONTAINS'</span>,\n",
       "                <span style=\"color: #808000; text-decoration-color: #808000\">properties</span>=<span style=\"font-weight: bold\">{}</span>\n",
       "            <span style=\"font-weight: bold\">)</span>,\n",
       "            <span style=\"color: #800080; text-decoration-color: #800080; font-weight: bold\">Relationship</span><span style=\"font-weight: bold\">(</span>\n",
       "                <span style=\"color: #808000; text-decoration-color: #808000\">source</span>=<span style=\"color: #800080; text-decoration-color: #800080; font-weight: bold\">Node</span><span style=\"font-weight: bold\">(</span><span style=\"color: #808000; text-decoration-color: #808000\">id</span>=<span style=\"color: #008000; text-decoration-color: #008000\">'三江'</span>, <span style=\"color: #808000; text-decoration-color: #808000\">type</span>=<span style=\"color: #008000; text-decoration-color: #008000\">'Place'</span>, <span style=\"color: #808000; text-decoration-color: #808000\">properties</span>=<span style=\"font-weight: bold\">{})</span>,\n",
       "                <span style=\"color: #808000; text-decoration-color: #808000\">target</span>=<span style=\"color: #800080; text-decoration-color: #800080; font-weight: bold\">Node</span><span style=\"font-weight: bold\">(</span><span style=\"color: #808000; text-decoration-color: #808000\">id</span>=<span style=\"color: #008000; text-decoration-color: #008000\">'瀘水'</span>, <span style=\"color: #808000; text-decoration-color: #808000\">type</span>=<span style=\"color: #008000; text-decoration-color: #008000\">'Place'</span>, <span style=\"color: #808000; text-decoration-color: #808000\">properties</span>=<span style=\"font-weight: bold\">{})</span>,\n",
       "                <span style=\"color: #808000; text-decoration-color: #808000\">type</span>=<span style=\"color: #008000; text-decoration-color: #008000\">'CONTAINS'</span>,\n",
       "                <span style=\"color: #808000; text-decoration-color: #808000\">properties</span>=<span style=\"font-weight: bold\">{}</span>\n",
       "            <span style=\"font-weight: bold\">)</span>,\n",
       "            <span style=\"color: #800080; text-decoration-color: #800080; font-weight: bold\">Relationship</span><span style=\"font-weight: bold\">(</span>\n",
       "                <span style=\"color: #808000; text-decoration-color: #808000\">source</span>=<span style=\"color: #800080; text-decoration-color: #800080; font-weight: bold\">Node</span><span style=\"font-weight: bold\">(</span><span style=\"color: #808000; text-decoration-color: #808000\">id</span>=<span style=\"color: #008000; text-decoration-color: #008000\">'三江'</span>, <span style=\"color: #808000; text-decoration-color: #808000\">type</span>=<span style=\"color: #008000; text-decoration-color: #008000\">'Place'</span>, <span style=\"color: #808000; text-decoration-color: #808000\">properties</span>=<span style=\"font-weight: bold\">{})</span>,\n",
       "                <span style=\"color: #808000; text-decoration-color: #808000\">target</span>=<span style=\"color: #800080; text-decoration-color: #800080; font-weight: bold\">Node</span><span style=\"font-weight: bold\">(</span><span style=\"color: #808000; text-decoration-color: #808000\">id</span>=<span style=\"color: #008000; text-decoration-color: #008000\">'甘南水'</span>, <span style=\"color: #808000; text-decoration-color: #808000\">type</span>=<span style=\"color: #008000; text-decoration-color: #008000\">'Place'</span>, <span style=\"color: #808000; text-decoration-color: #808000\">properties</span>=<span style=\"font-weight: bold\">{})</span>,\n",
       "                <span style=\"color: #808000; text-decoration-color: #808000\">type</span>=<span style=\"color: #008000; text-decoration-color: #008000\">'CONTAINS'</span>,\n",
       "                <span style=\"color: #808000; text-decoration-color: #808000\">properties</span>=<span style=\"font-weight: bold\">{}</span>\n",
       "            <span style=\"font-weight: bold\">)</span>,\n",
       "            <span style=\"color: #800080; text-decoration-color: #800080; font-weight: bold\">Relationship</span><span style=\"font-weight: bold\">(</span>\n",
       "                <span style=\"color: #808000; text-decoration-color: #808000\">source</span>=<span style=\"color: #800080; text-decoration-color: #800080; font-weight: bold\">Node</span><span style=\"font-weight: bold\">(</span><span style=\"color: #808000; text-decoration-color: #808000\">id</span>=<span style=\"color: #008000; text-decoration-color: #008000\">'三江'</span>, <span style=\"color: #808000; text-decoration-color: #808000\">type</span>=<span style=\"color: #008000; text-decoration-color: #008000\">'Place'</span>, <span style=\"color: #808000; text-decoration-color: #808000\">properties</span>=<span style=\"font-weight: bold\">{})</span>,\n",
       "                <span style=\"color: #808000; text-decoration-color: #808000\">target</span>=<span style=\"color: #800080; text-decoration-color: #800080; font-weight: bold\">Node</span><span style=\"font-weight: bold\">(</span><span style=\"color: #808000; text-decoration-color: #808000\">id</span>=<span style=\"color: #008000; text-decoration-color: #008000\">'西城水'</span>, <span style=\"color: #808000; text-decoration-color: #808000\">type</span>=<span style=\"color: #008000; text-decoration-color: #008000\">'Place'</span>, <span style=\"color: #808000; text-decoration-color: #808000\">properties</span>=<span style=\"font-weight: bold\">{})</span>,\n",
       "                <span style=\"color: #808000; text-decoration-color: #808000\">type</span>=<span style=\"color: #008000; text-decoration-color: #008000\">'CONTAINS'</span>,\n",
       "                <span style=\"color: #808000; text-decoration-color: #808000\">properties</span>=<span style=\"font-weight: bold\">{}</span>\n",
       "            <span style=\"font-weight: bold\">)</span>,\n",
       "            <span style=\"color: #800080; text-decoration-color: #800080; font-weight: bold\">Relationship</span><span style=\"font-weight: bold\">(</span>\n",
       "                <span style=\"color: #808000; text-decoration-color: #808000\">source</span>=<span style=\"color: #800080; text-decoration-color: #800080; font-weight: bold\">Node</span><span style=\"font-weight: bold\">(</span><span style=\"color: #808000; text-decoration-color: #808000\">id</span>=<span style=\"color: #008000; text-decoration-color: #008000\">'銀坑洞'</span>, <span style=\"color: #808000; text-decoration-color: #808000\">type</span>=<span style=\"color: #008000; text-decoration-color: #008000\">'Place'</span>, <span style=\"color: #808000; text-decoration-color: #808000\">properties</span>=<span style=\"font-weight: bold\">{})</span>,\n",
       "                <span style=\"color: #808000; text-decoration-color: #808000\">target</span>=<span style=\"color: #800080; text-decoration-color: #800080; font-weight: bold\">Node</span><span style=\"font-weight: bold\">(</span><span style=\"color: #808000; text-decoration-color: #808000\">id</span>=<span style=\"color: #008000; text-decoration-color: #008000\">'鹽井'</span>, <span style=\"color: #808000; text-decoration-color: #808000\">type</span>=<span style=\"color: #008000; text-decoration-color: #008000\">'Place'</span>, <span style=\"color: #808000; text-decoration-color: #808000\">properties</span>=<span style=\"font-weight: bold\">{})</span>,\n",
       "                <span style=\"color: #808000; text-decoration-color: #808000\">type</span>=<span style=\"color: #008000; text-decoration-color: #008000\">'NEAR'</span>,\n",
       "                <span style=\"color: #808000; text-decoration-color: #808000\">properties</span>=<span style=\"font-weight: bold\">{}</span>\n",
       "            <span style=\"font-weight: bold\">)</span>,\n",
       "            <span style=\"color: #800080; text-decoration-color: #800080; font-weight: bold\">Relationship</span><span style=\"font-weight: bold\">(</span>\n",
       "                <span style=\"color: #808000; text-decoration-color: #808000\">source</span>=<span style=\"color: #800080; text-decoration-color: #800080; font-weight: bold\">Node</span><span style=\"font-weight: bold\">(</span><span style=\"color: #808000; text-decoration-color: #808000\">id</span>=<span style=\"color: #008000; text-decoration-color: #008000\">'銀坑洞'</span>, <span style=\"color: #808000; text-decoration-color: #808000\">type</span>=<span style=\"color: #008000; text-decoration-color: #008000\">'Place'</span>, <span style=\"color: #808000; text-decoration-color: #808000\">properties</span>=<span style=\"font-weight: bold\">{})</span>,\n",
       "                <span style=\"color: #808000; text-decoration-color: #808000\">target</span>=<span style=\"color: #800080; text-decoration-color: #800080; font-weight: bold\">Node</span><span style=\"font-weight: bold\">(</span><span style=\"color: #808000; text-decoration-color: #808000\">id</span>=<span style=\"color: #008000; text-decoration-color: #008000\">'梁都洞'</span>, <span style=\"color: #808000; text-decoration-color: #808000\">type</span>=<span style=\"color: #008000; text-decoration-color: #008000\">'Place'</span>, <span style=\"color: #808000; text-decoration-color: #808000\">properties</span>=<span style=\"font-weight: bold\">{})</span>,\n",
       "                <span style=\"color: #808000; text-decoration-color: #808000\">type</span>=<span style=\"color: #008000; text-decoration-color: #008000\">'NEAR'</span>,\n",
       "                <span style=\"color: #808000; text-decoration-color: #808000\">properties</span>=<span style=\"font-weight: bold\">{}</span>\n",
       "            <span style=\"font-weight: bold\">)</span>,\n",
       "            <span style=\"color: #800080; text-decoration-color: #800080; font-weight: bold\">Relationship</span><span style=\"font-weight: bold\">(</span>\n",
       "                <span style=\"color: #808000; text-decoration-color: #808000\">source</span>=<span style=\"color: #800080; text-decoration-color: #800080; font-weight: bold\">Node</span><span style=\"font-weight: bold\">(</span><span style=\"color: #808000; text-decoration-color: #808000\">id</span>=<span style=\"color: #008000; text-decoration-color: #008000\">'銀坑洞'</span>, <span style=\"color: #808000; text-decoration-color: #808000\">type</span>=<span style=\"color: #008000; text-decoration-color: #008000\">'Place'</span>, <span style=\"color: #808000; text-decoration-color: #808000\">properties</span>=<span style=\"font-weight: bold\">{})</span>,\n",
       "                <span style=\"color: #808000; text-decoration-color: #808000\">target</span>=<span style=\"color: #800080; text-decoration-color: #800080; font-weight: bold\">Node</span><span style=\"font-weight: bold\">(</span><span style=\"color: #808000; text-decoration-color: #808000\">id</span>=<span style=\"color: #008000; text-decoration-color: #008000\">'銀坑山'</span>, <span style=\"color: #808000; text-decoration-color: #808000\">type</span>=<span style=\"color: #008000; text-decoration-color: #008000\">'Place'</span>, <span style=\"color: #808000; text-decoration-color: #808000\">properties</span>=<span style=\"font-weight: bold\">{})</span>,\n",
       "                <span style=\"color: #808000; text-decoration-color: #808000\">type</span>=<span style=\"color: #008000; text-decoration-color: #008000\">'CONTAINS'</span>,\n",
       "                <span style=\"color: #808000; text-decoration-color: #808000\">properties</span>=<span style=\"font-weight: bold\">{}</span>\n",
       "            <span style=\"font-weight: bold\">)</span>,\n",
       "            <span style=\"color: #800080; text-decoration-color: #800080; font-weight: bold\">Relationship</span><span style=\"font-weight: bold\">(</span>\n",
       "                <span style=\"color: #808000; text-decoration-color: #808000\">source</span>=<span style=\"color: #800080; text-decoration-color: #800080; font-weight: bold\">Node</span><span style=\"font-weight: bold\">(</span><span style=\"color: #808000; text-decoration-color: #808000\">id</span>=<span style=\"color: #008000; text-decoration-color: #008000\">'銀坑山'</span>, <span style=\"color: #808000; text-decoration-color: #808000\">type</span>=<span style=\"color: #008000; text-decoration-color: #008000\">'Place'</span>, <span style=\"color: #808000; text-decoration-color: #808000\">properties</span>=<span style=\"font-weight: bold\">{})</span>,\n",
       "                <span style=\"color: #808000; text-decoration-color: #808000\">target</span>=<span style=\"color: #800080; text-decoration-color: #800080; font-weight: bold\">Node</span><span style=\"font-weight: bold\">(</span><span style=\"color: #808000; text-decoration-color: #808000\">id</span>=<span style=\"color: #008000; text-decoration-color: #008000\">'銀礦'</span>, <span style=\"color: #808000; text-decoration-color: #808000\">type</span>=<span style=\"color: #008000; text-decoration-color: #008000\">'Place'</span>, <span style=\"color: #808000; text-decoration-color: #808000\">properties</span>=<span style=\"font-weight: bold\">{})</span>,\n",
       "                <span style=\"color: #808000; text-decoration-color: #808000\">type</span>=<span style=\"color: #008000; text-decoration-color: #008000\">'CONTAINS'</span>,\n",
       "                <span style=\"color: #808000; text-decoration-color: #808000\">properties</span>=<span style=\"font-weight: bold\">{}</span>\n",
       "            <span style=\"font-weight: bold\">)</span>\n",
       "        <span style=\"font-weight: bold\">]</span>,\n",
       "        <span style=\"color: #808000; text-decoration-color: #808000\">source</span>=<span style=\"color: #800080; text-decoration-color: #800080; font-weight: bold\">Document</span><span style=\"font-weight: bold\">(</span>\n",
       "            <span style=\"color: #808000; text-decoration-color: #808000\">metadata</span>=<span style=\"font-weight: bold\">{</span>\n",
       "                <span style=\"color: #008000; text-decoration-color: #008000\">'source'</span>: <span style=\"color: #008000; text-decoration-color: #008000\">'./data/90-Romance-of-the-Three-Kingdoms.txt'</span>,\n",
       "                <span style=\"color: #008000; text-decoration-color: #008000\">'id'</span>: <span style=\"color: #008000; text-decoration-color: #008000\">'1c8180b7b28cb7e270dd96df2badbe84'</span>\n",
       "            <span style=\"font-weight: bold\">}</span>,\n",
       "            <span style=\"color: #808000; text-decoration-color: #808000\">page_content</span>=<span style=\"color: #008000; text-decoration-color: #008000\">'第九十回：驅巨獸六破蠻兵，燒藤甲七擒孟獲\\n卻說孔明放了孟獲等一干人，楊鋒父子皆封官爵，重</span>\n",
       "<span style=\"color: #008000; text-decoration-color: #008000\">賞洞兵。楊鋒等拜謝而去。孟獲等連夜奔回銀坑洞。那洞外有三江：乃是瀘水、甘南水、西城水。三路水會合，故為三江。其洞北</span>\n",
       "<span style=\"color: #008000; text-decoration-color: #008000\">近平坦二百餘里，多產萬物；洞西二百餘里，有鹽井；西南二百里，直抵瀘、甘；正南三百里，乃是梁都洞。洞中有山，環抱其洞</span>\n",
       "<span style=\"color: #008000; text-decoration-color: #008000\">；山上出銀礦，故名為銀坑山。山中置宮殿樓臺，以為蠻王巢穴。'</span>\n",
       "        <span style=\"font-weight: bold\">)</span>\n",
       "    <span style=\"font-weight: bold\">)</span>\n",
       "<span style=\"font-weight: bold\">]</span>\n",
       "</pre>\n"
      ],
      "text/plain": [
       "\u001b[1m[\u001b[0m\n",
       "    \u001b[1;35mGraphDocument\u001b[0m\u001b[1m(\u001b[0m\n",
       "        \u001b[33mnodes\u001b[0m=\u001b[1m[\u001b[0m\n",
       "            \u001b[1;35mNode\u001b[0m\u001b[1m(\u001b[0m\u001b[33mid\u001b[0m=\u001b[32m'孔明'\u001b[0m, \u001b[33mtype\u001b[0m=\u001b[32m'Person'\u001b[0m, \u001b[33mproperties\u001b[0m=\u001b[1m{\u001b[0m\u001b[1m}\u001b[0m\u001b[1m)\u001b[0m,\n",
       "            \u001b[1;35mNode\u001b[0m\u001b[1m(\u001b[0m\u001b[33mid\u001b[0m=\u001b[32m'孟獲'\u001b[0m, \u001b[33mtype\u001b[0m=\u001b[32m'Person'\u001b[0m, \u001b[33mproperties\u001b[0m=\u001b[1m{\u001b[0m\u001b[1m}\u001b[0m\u001b[1m)\u001b[0m,\n",
       "            \u001b[1;35mNode\u001b[0m\u001b[1m(\u001b[0m\u001b[33mid\u001b[0m=\u001b[32m'楊鋒'\u001b[0m, \u001b[33mtype\u001b[0m=\u001b[32m'Person'\u001b[0m, \u001b[33mproperties\u001b[0m=\u001b[1m{\u001b[0m\u001b[1m}\u001b[0m\u001b[1m)\u001b[0m,\n",
       "            \u001b[1;35mNode\u001b[0m\u001b[1m(\u001b[0m\u001b[33mid\u001b[0m=\u001b[32m'楊鋒之子'\u001b[0m, \u001b[33mtype\u001b[0m=\u001b[32m'Person'\u001b[0m, \u001b[33mproperties\u001b[0m=\u001b[1m{\u001b[0m\u001b[1m}\u001b[0m\u001b[1m)\u001b[0m,\n",
       "            \u001b[1;35mNode\u001b[0m\u001b[1m(\u001b[0m\u001b[33mid\u001b[0m=\u001b[32m'銀坑洞'\u001b[0m, \u001b[33mtype\u001b[0m=\u001b[32m'Place'\u001b[0m, \u001b[33mproperties\u001b[0m=\u001b[1m{\u001b[0m\u001b[1m}\u001b[0m\u001b[1m)\u001b[0m,\n",
       "            \u001b[1;35mNode\u001b[0m\u001b[1m(\u001b[0m\u001b[33mid\u001b[0m=\u001b[32m'瀘水'\u001b[0m, \u001b[33mtype\u001b[0m=\u001b[32m'Place'\u001b[0m, \u001b[33mproperties\u001b[0m=\u001b[1m{\u001b[0m\u001b[1m}\u001b[0m\u001b[1m)\u001b[0m,\n",
       "            \u001b[1;35mNode\u001b[0m\u001b[1m(\u001b[0m\u001b[33mid\u001b[0m=\u001b[32m'甘南水'\u001b[0m, \u001b[33mtype\u001b[0m=\u001b[32m'Place'\u001b[0m, \u001b[33mproperties\u001b[0m=\u001b[1m{\u001b[0m\u001b[1m}\u001b[0m\u001b[1m)\u001b[0m,\n",
       "            \u001b[1;35mNode\u001b[0m\u001b[1m(\u001b[0m\u001b[33mid\u001b[0m=\u001b[32m'西城水'\u001b[0m, \u001b[33mtype\u001b[0m=\u001b[32m'Place'\u001b[0m, \u001b[33mproperties\u001b[0m=\u001b[1m{\u001b[0m\u001b[1m}\u001b[0m\u001b[1m)\u001b[0m,\n",
       "            \u001b[1;35mNode\u001b[0m\u001b[1m(\u001b[0m\u001b[33mid\u001b[0m=\u001b[32m'三江'\u001b[0m, \u001b[33mtype\u001b[0m=\u001b[32m'Place'\u001b[0m, \u001b[33mproperties\u001b[0m=\u001b[1m{\u001b[0m\u001b[1m}\u001b[0m\u001b[1m)\u001b[0m,\n",
       "            \u001b[1;35mNode\u001b[0m\u001b[1m(\u001b[0m\u001b[33mid\u001b[0m=\u001b[32m'鹽井'\u001b[0m, \u001b[33mtype\u001b[0m=\u001b[32m'Place'\u001b[0m, \u001b[33mproperties\u001b[0m=\u001b[1m{\u001b[0m\u001b[1m}\u001b[0m\u001b[1m)\u001b[0m,\n",
       "            \u001b[1;35mNode\u001b[0m\u001b[1m(\u001b[0m\u001b[33mid\u001b[0m=\u001b[32m'梁都洞'\u001b[0m, \u001b[33mtype\u001b[0m=\u001b[32m'Place'\u001b[0m, \u001b[33mproperties\u001b[0m=\u001b[1m{\u001b[0m\u001b[1m}\u001b[0m\u001b[1m)\u001b[0m,\n",
       "            \u001b[1;35mNode\u001b[0m\u001b[1m(\u001b[0m\u001b[33mid\u001b[0m=\u001b[32m'銀坑山'\u001b[0m, \u001b[33mtype\u001b[0m=\u001b[32m'Place'\u001b[0m, \u001b[33mproperties\u001b[0m=\u001b[1m{\u001b[0m\u001b[1m}\u001b[0m\u001b[1m)\u001b[0m\n",
       "        \u001b[1m]\u001b[0m,\n",
       "        \u001b[33mrelationships\u001b[0m=\u001b[1m[\u001b[0m\n",
       "            \u001b[1;35mRelationship\u001b[0m\u001b[1m(\u001b[0m\n",
       "                \u001b[33msource\u001b[0m=\u001b[1;35mNode\u001b[0m\u001b[1m(\u001b[0m\u001b[33mid\u001b[0m=\u001b[32m'孔明'\u001b[0m, \u001b[33mtype\u001b[0m=\u001b[32m'Person'\u001b[0m, \u001b[33mproperties\u001b[0m=\u001b[1m{\u001b[0m\u001b[1m}\u001b[0m\u001b[1m)\u001b[0m,\n",
       "                \u001b[33mtarget\u001b[0m=\u001b[1;35mNode\u001b[0m\u001b[1m(\u001b[0m\u001b[33mid\u001b[0m=\u001b[32m'孟獲'\u001b[0m, \u001b[33mtype\u001b[0m=\u001b[32m'Person'\u001b[0m, \u001b[33mproperties\u001b[0m=\u001b[1m{\u001b[0m\u001b[1m}\u001b[0m\u001b[1m)\u001b[0m,\n",
       "                \u001b[33mtype\u001b[0m=\u001b[32m'RELEASED'\u001b[0m,\n",
       "                \u001b[33mproperties\u001b[0m=\u001b[1m{\u001b[0m\u001b[1m}\u001b[0m\n",
       "            \u001b[1m)\u001b[0m,\n",
       "            \u001b[1;35mRelationship\u001b[0m\u001b[1m(\u001b[0m\n",
       "                \u001b[33msource\u001b[0m=\u001b[1;35mNode\u001b[0m\u001b[1m(\u001b[0m\u001b[33mid\u001b[0m=\u001b[32m'孔明'\u001b[0m, \u001b[33mtype\u001b[0m=\u001b[32m'Person'\u001b[0m, \u001b[33mproperties\u001b[0m=\u001b[1m{\u001b[0m\u001b[1m}\u001b[0m\u001b[1m)\u001b[0m,\n",
       "                \u001b[33mtarget\u001b[0m=\u001b[1;35mNode\u001b[0m\u001b[1m(\u001b[0m\u001b[33mid\u001b[0m=\u001b[32m'楊鋒'\u001b[0m, \u001b[33mtype\u001b[0m=\u001b[32m'Person'\u001b[0m, \u001b[33mproperties\u001b[0m=\u001b[1m{\u001b[0m\u001b[1m}\u001b[0m\u001b[1m)\u001b[0m,\n",
       "                \u001b[33mtype\u001b[0m=\u001b[32m'REWARDED'\u001b[0m,\n",
       "                \u001b[33mproperties\u001b[0m=\u001b[1m{\u001b[0m\u001b[1m}\u001b[0m\n",
       "            \u001b[1m)\u001b[0m,\n",
       "            \u001b[1;35mRelationship\u001b[0m\u001b[1m(\u001b[0m\n",
       "                \u001b[33msource\u001b[0m=\u001b[1;35mNode\u001b[0m\u001b[1m(\u001b[0m\u001b[33mid\u001b[0m=\u001b[32m'孔明'\u001b[0m, \u001b[33mtype\u001b[0m=\u001b[32m'Person'\u001b[0m, \u001b[33mproperties\u001b[0m=\u001b[1m{\u001b[0m\u001b[1m}\u001b[0m\u001b[1m)\u001b[0m,\n",
       "                \u001b[33mtarget\u001b[0m=\u001b[1;35mNode\u001b[0m\u001b[1m(\u001b[0m\u001b[33mid\u001b[0m=\u001b[32m'楊鋒之子'\u001b[0m, \u001b[33mtype\u001b[0m=\u001b[32m'Person'\u001b[0m, \u001b[33mproperties\u001b[0m=\u001b[1m{\u001b[0m\u001b[1m}\u001b[0m\u001b[1m)\u001b[0m,\n",
       "                \u001b[33mtype\u001b[0m=\u001b[32m'REWARDED'\u001b[0m,\n",
       "                \u001b[33mproperties\u001b[0m=\u001b[1m{\u001b[0m\u001b[1m}\u001b[0m\n",
       "            \u001b[1m)\u001b[0m,\n",
       "            \u001b[1;35mRelationship\u001b[0m\u001b[1m(\u001b[0m\n",
       "                \u001b[33msource\u001b[0m=\u001b[1;35mNode\u001b[0m\u001b[1m(\u001b[0m\u001b[33mid\u001b[0m=\u001b[32m'楊鋒'\u001b[0m, \u001b[33mtype\u001b[0m=\u001b[32m'Person'\u001b[0m, \u001b[33mproperties\u001b[0m=\u001b[1m{\u001b[0m\u001b[1m}\u001b[0m\u001b[1m)\u001b[0m,\n",
       "                \u001b[33mtarget\u001b[0m=\u001b[1;35mNode\u001b[0m\u001b[1m(\u001b[0m\u001b[33mid\u001b[0m=\u001b[32m'孔明'\u001b[0m, \u001b[33mtype\u001b[0m=\u001b[32m'Person'\u001b[0m, \u001b[33mproperties\u001b[0m=\u001b[1m{\u001b[0m\u001b[1m}\u001b[0m\u001b[1m)\u001b[0m,\n",
       "                \u001b[33mtype\u001b[0m=\u001b[32m'THANKED'\u001b[0m,\n",
       "                \u001b[33mproperties\u001b[0m=\u001b[1m{\u001b[0m\u001b[1m}\u001b[0m\n",
       "            \u001b[1m)\u001b[0m,\n",
       "            \u001b[1;35mRelationship\u001b[0m\u001b[1m(\u001b[0m\n",
       "                \u001b[33msource\u001b[0m=\u001b[1;35mNode\u001b[0m\u001b[1m(\u001b[0m\u001b[33mid\u001b[0m=\u001b[32m'楊鋒之子'\u001b[0m, \u001b[33mtype\u001b[0m=\u001b[32m'Person'\u001b[0m, \u001b[33mproperties\u001b[0m=\u001b[1m{\u001b[0m\u001b[1m}\u001b[0m\u001b[1m)\u001b[0m,\n",
       "                \u001b[33mtarget\u001b[0m=\u001b[1;35mNode\u001b[0m\u001b[1m(\u001b[0m\u001b[33mid\u001b[0m=\u001b[32m'孔明'\u001b[0m, \u001b[33mtype\u001b[0m=\u001b[32m'Person'\u001b[0m, \u001b[33mproperties\u001b[0m=\u001b[1m{\u001b[0m\u001b[1m}\u001b[0m\u001b[1m)\u001b[0m,\n",
       "                \u001b[33mtype\u001b[0m=\u001b[32m'THANKED'\u001b[0m,\n",
       "                \u001b[33mproperties\u001b[0m=\u001b[1m{\u001b[0m\u001b[1m}\u001b[0m\n",
       "            \u001b[1m)\u001b[0m,\n",
       "            \u001b[1;35mRelationship\u001b[0m\u001b[1m(\u001b[0m\n",
       "                \u001b[33msource\u001b[0m=\u001b[1;35mNode\u001b[0m\u001b[1m(\u001b[0m\u001b[33mid\u001b[0m=\u001b[32m'孟獲'\u001b[0m, \u001b[33mtype\u001b[0m=\u001b[32m'Person'\u001b[0m, \u001b[33mproperties\u001b[0m=\u001b[1m{\u001b[0m\u001b[1m}\u001b[0m\u001b[1m)\u001b[0m,\n",
       "                \u001b[33mtarget\u001b[0m=\u001b[1;35mNode\u001b[0m\u001b[1m(\u001b[0m\u001b[33mid\u001b[0m=\u001b[32m'銀坑洞'\u001b[0m, \u001b[33mtype\u001b[0m=\u001b[32m'Place'\u001b[0m, \u001b[33mproperties\u001b[0m=\u001b[1m{\u001b[0m\u001b[1m}\u001b[0m\u001b[1m)\u001b[0m,\n",
       "                \u001b[33mtype\u001b[0m=\u001b[32m'RETURNED_TO'\u001b[0m,\n",
       "                \u001b[33mproperties\u001b[0m=\u001b[1m{\u001b[0m\u001b[1m}\u001b[0m\n",
       "            \u001b[1m)\u001b[0m,\n",
       "            \u001b[1;35mRelationship\u001b[0m\u001b[1m(\u001b[0m\n",
       "                \u001b[33msource\u001b[0m=\u001b[1;35mNode\u001b[0m\u001b[1m(\u001b[0m\u001b[33mid\u001b[0m=\u001b[32m'銀坑洞'\u001b[0m, \u001b[33mtype\u001b[0m=\u001b[32m'Place'\u001b[0m, \u001b[33mproperties\u001b[0m=\u001b[1m{\u001b[0m\u001b[1m}\u001b[0m\u001b[1m)\u001b[0m,\n",
       "                \u001b[33mtarget\u001b[0m=\u001b[1;35mNode\u001b[0m\u001b[1m(\u001b[0m\u001b[33mid\u001b[0m=\u001b[32m'瀘水'\u001b[0m, \u001b[33mtype\u001b[0m=\u001b[32m'Place'\u001b[0m, \u001b[33mproperties\u001b[0m=\u001b[1m{\u001b[0m\u001b[1m}\u001b[0m\u001b[1m)\u001b[0m,\n",
       "                \u001b[33mtype\u001b[0m=\u001b[32m'CONTAINS'\u001b[0m,\n",
       "                \u001b[33mproperties\u001b[0m=\u001b[1m{\u001b[0m\u001b[1m}\u001b[0m\n",
       "            \u001b[1m)\u001b[0m,\n",
       "            \u001b[1;35mRelationship\u001b[0m\u001b[1m(\u001b[0m\n",
       "                \u001b[33msource\u001b[0m=\u001b[1;35mNode\u001b[0m\u001b[1m(\u001b[0m\u001b[33mid\u001b[0m=\u001b[32m'銀坑洞'\u001b[0m, \u001b[33mtype\u001b[0m=\u001b[32m'Place'\u001b[0m, \u001b[33mproperties\u001b[0m=\u001b[1m{\u001b[0m\u001b[1m}\u001b[0m\u001b[1m)\u001b[0m,\n",
       "                \u001b[33mtarget\u001b[0m=\u001b[1;35mNode\u001b[0m\u001b[1m(\u001b[0m\u001b[33mid\u001b[0m=\u001b[32m'甘南水'\u001b[0m, \u001b[33mtype\u001b[0m=\u001b[32m'Place'\u001b[0m, \u001b[33mproperties\u001b[0m=\u001b[1m{\u001b[0m\u001b[1m}\u001b[0m\u001b[1m)\u001b[0m,\n",
       "                \u001b[33mtype\u001b[0m=\u001b[32m'CONTAINS'\u001b[0m,\n",
       "                \u001b[33mproperties\u001b[0m=\u001b[1m{\u001b[0m\u001b[1m}\u001b[0m\n",
       "            \u001b[1m)\u001b[0m,\n",
       "            \u001b[1;35mRelationship\u001b[0m\u001b[1m(\u001b[0m\n",
       "                \u001b[33msource\u001b[0m=\u001b[1;35mNode\u001b[0m\u001b[1m(\u001b[0m\u001b[33mid\u001b[0m=\u001b[32m'銀坑洞'\u001b[0m, \u001b[33mtype\u001b[0m=\u001b[32m'Place'\u001b[0m, \u001b[33mproperties\u001b[0m=\u001b[1m{\u001b[0m\u001b[1m}\u001b[0m\u001b[1m)\u001b[0m,\n",
       "                \u001b[33mtarget\u001b[0m=\u001b[1;35mNode\u001b[0m\u001b[1m(\u001b[0m\u001b[33mid\u001b[0m=\u001b[32m'西城水'\u001b[0m, \u001b[33mtype\u001b[0m=\u001b[32m'Place'\u001b[0m, \u001b[33mproperties\u001b[0m=\u001b[1m{\u001b[0m\u001b[1m}\u001b[0m\u001b[1m)\u001b[0m,\n",
       "                \u001b[33mtype\u001b[0m=\u001b[32m'CONTAINS'\u001b[0m,\n",
       "                \u001b[33mproperties\u001b[0m=\u001b[1m{\u001b[0m\u001b[1m}\u001b[0m\n",
       "            \u001b[1m)\u001b[0m,\n",
       "            \u001b[1;35mRelationship\u001b[0m\u001b[1m(\u001b[0m\n",
       "                \u001b[33msource\u001b[0m=\u001b[1;35mNode\u001b[0m\u001b[1m(\u001b[0m\u001b[33mid\u001b[0m=\u001b[32m'三江'\u001b[0m, \u001b[33mtype\u001b[0m=\u001b[32m'Place'\u001b[0m, \u001b[33mproperties\u001b[0m=\u001b[1m{\u001b[0m\u001b[1m}\u001b[0m\u001b[1m)\u001b[0m,\n",
       "                \u001b[33mtarget\u001b[0m=\u001b[1;35mNode\u001b[0m\u001b[1m(\u001b[0m\u001b[33mid\u001b[0m=\u001b[32m'瀘水'\u001b[0m, \u001b[33mtype\u001b[0m=\u001b[32m'Place'\u001b[0m, \u001b[33mproperties\u001b[0m=\u001b[1m{\u001b[0m\u001b[1m}\u001b[0m\u001b[1m)\u001b[0m,\n",
       "                \u001b[33mtype\u001b[0m=\u001b[32m'CONTAINS'\u001b[0m,\n",
       "                \u001b[33mproperties\u001b[0m=\u001b[1m{\u001b[0m\u001b[1m}\u001b[0m\n",
       "            \u001b[1m)\u001b[0m,\n",
       "            \u001b[1;35mRelationship\u001b[0m\u001b[1m(\u001b[0m\n",
       "                \u001b[33msource\u001b[0m=\u001b[1;35mNode\u001b[0m\u001b[1m(\u001b[0m\u001b[33mid\u001b[0m=\u001b[32m'三江'\u001b[0m, \u001b[33mtype\u001b[0m=\u001b[32m'Place'\u001b[0m, \u001b[33mproperties\u001b[0m=\u001b[1m{\u001b[0m\u001b[1m}\u001b[0m\u001b[1m)\u001b[0m,\n",
       "                \u001b[33mtarget\u001b[0m=\u001b[1;35mNode\u001b[0m\u001b[1m(\u001b[0m\u001b[33mid\u001b[0m=\u001b[32m'甘南水'\u001b[0m, \u001b[33mtype\u001b[0m=\u001b[32m'Place'\u001b[0m, \u001b[33mproperties\u001b[0m=\u001b[1m{\u001b[0m\u001b[1m}\u001b[0m\u001b[1m)\u001b[0m,\n",
       "                \u001b[33mtype\u001b[0m=\u001b[32m'CONTAINS'\u001b[0m,\n",
       "                \u001b[33mproperties\u001b[0m=\u001b[1m{\u001b[0m\u001b[1m}\u001b[0m\n",
       "            \u001b[1m)\u001b[0m,\n",
       "            \u001b[1;35mRelationship\u001b[0m\u001b[1m(\u001b[0m\n",
       "                \u001b[33msource\u001b[0m=\u001b[1;35mNode\u001b[0m\u001b[1m(\u001b[0m\u001b[33mid\u001b[0m=\u001b[32m'三江'\u001b[0m, \u001b[33mtype\u001b[0m=\u001b[32m'Place'\u001b[0m, \u001b[33mproperties\u001b[0m=\u001b[1m{\u001b[0m\u001b[1m}\u001b[0m\u001b[1m)\u001b[0m,\n",
       "                \u001b[33mtarget\u001b[0m=\u001b[1;35mNode\u001b[0m\u001b[1m(\u001b[0m\u001b[33mid\u001b[0m=\u001b[32m'西城水'\u001b[0m, \u001b[33mtype\u001b[0m=\u001b[32m'Place'\u001b[0m, \u001b[33mproperties\u001b[0m=\u001b[1m{\u001b[0m\u001b[1m}\u001b[0m\u001b[1m)\u001b[0m,\n",
       "                \u001b[33mtype\u001b[0m=\u001b[32m'CONTAINS'\u001b[0m,\n",
       "                \u001b[33mproperties\u001b[0m=\u001b[1m{\u001b[0m\u001b[1m}\u001b[0m\n",
       "            \u001b[1m)\u001b[0m,\n",
       "            \u001b[1;35mRelationship\u001b[0m\u001b[1m(\u001b[0m\n",
       "                \u001b[33msource\u001b[0m=\u001b[1;35mNode\u001b[0m\u001b[1m(\u001b[0m\u001b[33mid\u001b[0m=\u001b[32m'銀坑洞'\u001b[0m, \u001b[33mtype\u001b[0m=\u001b[32m'Place'\u001b[0m, \u001b[33mproperties\u001b[0m=\u001b[1m{\u001b[0m\u001b[1m}\u001b[0m\u001b[1m)\u001b[0m,\n",
       "                \u001b[33mtarget\u001b[0m=\u001b[1;35mNode\u001b[0m\u001b[1m(\u001b[0m\u001b[33mid\u001b[0m=\u001b[32m'鹽井'\u001b[0m, \u001b[33mtype\u001b[0m=\u001b[32m'Place'\u001b[0m, \u001b[33mproperties\u001b[0m=\u001b[1m{\u001b[0m\u001b[1m}\u001b[0m\u001b[1m)\u001b[0m,\n",
       "                \u001b[33mtype\u001b[0m=\u001b[32m'NEAR'\u001b[0m,\n",
       "                \u001b[33mproperties\u001b[0m=\u001b[1m{\u001b[0m\u001b[1m}\u001b[0m\n",
       "            \u001b[1m)\u001b[0m,\n",
       "            \u001b[1;35mRelationship\u001b[0m\u001b[1m(\u001b[0m\n",
       "                \u001b[33msource\u001b[0m=\u001b[1;35mNode\u001b[0m\u001b[1m(\u001b[0m\u001b[33mid\u001b[0m=\u001b[32m'銀坑洞'\u001b[0m, \u001b[33mtype\u001b[0m=\u001b[32m'Place'\u001b[0m, \u001b[33mproperties\u001b[0m=\u001b[1m{\u001b[0m\u001b[1m}\u001b[0m\u001b[1m)\u001b[0m,\n",
       "                \u001b[33mtarget\u001b[0m=\u001b[1;35mNode\u001b[0m\u001b[1m(\u001b[0m\u001b[33mid\u001b[0m=\u001b[32m'梁都洞'\u001b[0m, \u001b[33mtype\u001b[0m=\u001b[32m'Place'\u001b[0m, \u001b[33mproperties\u001b[0m=\u001b[1m{\u001b[0m\u001b[1m}\u001b[0m\u001b[1m)\u001b[0m,\n",
       "                \u001b[33mtype\u001b[0m=\u001b[32m'NEAR'\u001b[0m,\n",
       "                \u001b[33mproperties\u001b[0m=\u001b[1m{\u001b[0m\u001b[1m}\u001b[0m\n",
       "            \u001b[1m)\u001b[0m,\n",
       "            \u001b[1;35mRelationship\u001b[0m\u001b[1m(\u001b[0m\n",
       "                \u001b[33msource\u001b[0m=\u001b[1;35mNode\u001b[0m\u001b[1m(\u001b[0m\u001b[33mid\u001b[0m=\u001b[32m'銀坑洞'\u001b[0m, \u001b[33mtype\u001b[0m=\u001b[32m'Place'\u001b[0m, \u001b[33mproperties\u001b[0m=\u001b[1m{\u001b[0m\u001b[1m}\u001b[0m\u001b[1m)\u001b[0m,\n",
       "                \u001b[33mtarget\u001b[0m=\u001b[1;35mNode\u001b[0m\u001b[1m(\u001b[0m\u001b[33mid\u001b[0m=\u001b[32m'銀坑山'\u001b[0m, \u001b[33mtype\u001b[0m=\u001b[32m'Place'\u001b[0m, \u001b[33mproperties\u001b[0m=\u001b[1m{\u001b[0m\u001b[1m}\u001b[0m\u001b[1m)\u001b[0m,\n",
       "                \u001b[33mtype\u001b[0m=\u001b[32m'CONTAINS'\u001b[0m,\n",
       "                \u001b[33mproperties\u001b[0m=\u001b[1m{\u001b[0m\u001b[1m}\u001b[0m\n",
       "            \u001b[1m)\u001b[0m,\n",
       "            \u001b[1;35mRelationship\u001b[0m\u001b[1m(\u001b[0m\n",
       "                \u001b[33msource\u001b[0m=\u001b[1;35mNode\u001b[0m\u001b[1m(\u001b[0m\u001b[33mid\u001b[0m=\u001b[32m'銀坑山'\u001b[0m, \u001b[33mtype\u001b[0m=\u001b[32m'Place'\u001b[0m, \u001b[33mproperties\u001b[0m=\u001b[1m{\u001b[0m\u001b[1m}\u001b[0m\u001b[1m)\u001b[0m,\n",
       "                \u001b[33mtarget\u001b[0m=\u001b[1;35mNode\u001b[0m\u001b[1m(\u001b[0m\u001b[33mid\u001b[0m=\u001b[32m'銀礦'\u001b[0m, \u001b[33mtype\u001b[0m=\u001b[32m'Place'\u001b[0m, \u001b[33mproperties\u001b[0m=\u001b[1m{\u001b[0m\u001b[1m}\u001b[0m\u001b[1m)\u001b[0m,\n",
       "                \u001b[33mtype\u001b[0m=\u001b[32m'CONTAINS'\u001b[0m,\n",
       "                \u001b[33mproperties\u001b[0m=\u001b[1m{\u001b[0m\u001b[1m}\u001b[0m\n",
       "            \u001b[1m)\u001b[0m\n",
       "        \u001b[1m]\u001b[0m,\n",
       "        \u001b[33msource\u001b[0m=\u001b[1;35mDocument\u001b[0m\u001b[1m(\u001b[0m\n",
       "            \u001b[33mmetadata\u001b[0m=\u001b[1m{\u001b[0m\n",
       "                \u001b[32m'source'\u001b[0m: \u001b[32m'./data/90-Romance-of-the-Three-Kingdoms.txt'\u001b[0m,\n",
       "                \u001b[32m'id'\u001b[0m: \u001b[32m'1c8180b7b28cb7e270dd96df2badbe84'\u001b[0m\n",
       "            \u001b[1m}\u001b[0m,\n",
       "            \u001b[33mpage_content\u001b[0m=\u001b[32m'第九十回：驅巨獸六破蠻兵，燒藤甲七擒孟獲\\n卻說孔明放了孟獲等一干人，楊鋒父子皆封官爵，重\u001b[0m\n",
       "\u001b[32m賞洞兵。楊鋒等拜謝而去。孟獲等連夜奔回銀坑洞。那洞外有三江：乃是瀘水、甘南水、西城水。三路水會合，故為三江。其洞北\u001b[0m\n",
       "\u001b[32m近平坦二百餘里，多產萬物；洞西二百餘里，有鹽井；西南二百里，直抵瀘、甘；正南三百里，乃是梁都洞。洞中有山，環抱其洞\u001b[0m\n",
       "\u001b[32m；山上出銀礦，故名為銀坑山。山中置宮殿樓臺，以為蠻王巢穴。'\u001b[0m\n",
       "        \u001b[1m)\u001b[0m\n",
       "    \u001b[1m)\u001b[0m\n",
       "\u001b[1m]\u001b[0m\n"
      ]
     },
     "metadata": {},
     "output_type": "display_data"
    }
   ],
   "source": [
    "pprint(graph_documents[0:1])"
   ]
  },
  {
   "cell_type": "code",
   "execution_count": 8,
   "metadata": {
    "cellView": "form",
    "executionInfo": {
     "elapsed": 269,
     "status": "ok",
     "timestamp": 1736410202537,
     "user": {
      "displayName": "許銘軒",
      "userId": "05699376018426595761"
     },
     "user_tz": -480
    },
    "id": "6yCMz_sRtHNW"
   },
   "outputs": [],
   "source": [
    "#@markdown <a id=\"connect_db\" name=\"connect_db\"></a>\n",
    "#@markdown # **步驟6：建立LLM應用** 📃\n",
    "#@markdown 建立一個可以用來查詢知識圖譜的LLM應用\n",
    "#@markdown ---\n",
    "\n",
    "# 建立要抓取的 entity 描述的 model\n",
    "class Entities(BaseModel):\n",
    "    \"\"\"Identifying information about entities.\"\"\"\n",
    "\n",
    "    names: list[str] = Field(\n",
    "        ...,\n",
    "        description=\"All the person, organization, or business entities that \"\n",
    "        \"appear in the text\",\n",
    "    )\n",
    "\n",
    "# 將模型與 model 合併為 chain\n",
    "entity_chain = gpt4o.with_structured_output(Entities)\n",
    "\n",
    "# # 這段程式碼的目的是將輸入的文字轉換成適合 Lucene 搜索引擎的查詢字串，並使用模糊搜索來提高搜索的靈活性。\n",
    "# def generate_full_text_query(input: str) -> str:\n",
    "#     words = [el for el in remove_lucene_chars(input).split() if el]\n",
    "#     if not words:\n",
    "#         return \"\"\n",
    "#     full_text_query = \" AND \".join([f\"{word}~2\" for word in words])\n",
    "#     print(f\"Generated Query: {full_text_query}\")\n",
    "#     return full_text_query.strip()\n",
    "\n",
    "\n",
    "def graph_retriever(question: str) -> str:      # question 為提出的問題字串\n",
    "    \"\"\"\n",
    "    Collects the neighborhood of entities mentioned\n",
    "    in the question\n",
    "    \"\"\"\n",
    "    result = \"\"\n",
    "    entities = entity_chain.invoke(question)    # 提取出 entity\n",
    "\n",
    "    # 使用 entity 對圖形資料庫做搜尋\n",
    "    # 透過預先建立好的 index 來對每個 node 做搜尋\n",
    "    # 搜尋到 node 後，搜尋與其有相關的 neighborhood node 與 relationship\n",
    "    # 前面建 index 時，只有對有 label 為 _entity_ 的 node 建立，因此搜尋出 label 為 Document 的 node\n",
    "    for entity in entities.names:\n",
    "        try:\n",
    "            response = graph.query(\n",
    "                \"\"\"CALL db.index.fulltext.queryNodes('fulltext_entity_id', $query, {limit:5})\n",
    "                YIELD node,score\n",
    "                CALL (node, node) {\n",
    "                WITH node\n",
    "                MATCH (node)-[r:!MENTIONS]->(neighbor)\n",
    "                RETURN node.id + ' - ' + type(r) + ' -> ' + neighbor.id AS output\n",
    "                UNION ALL\n",
    "                WITH node\n",
    "                MATCH (node)<-[r:!MENTIONS]-(neighbor)\n",
    "                RETURN neighbor.id + ' - ' + type(r) + ' -> ' +  node.id AS output\n",
    "                }\n",
    "                RETURN output LIMIT 10\n",
    "                \"\"\",\n",
    "                {\"query\": entity},\n",
    "            )\n",
    "                       # 若無結果則略過\n",
    "            if response:\n",
    "                result += \"\\n\".join([el['output'] for el in response]) + \"\\n\"\n",
    "            else:\n",
    "                result += f\"No results found for entity '{entity}'\\n\"\n",
    "        except Exception as e:\n",
    "            result += f\"Error encountered for entity '{entity}': {e}\\n\"\n",
    "    return result if result else \"No relevant data found in the knowledge graph.\"\n",
    "\n",
    "\n",
    "vector_index = Neo4jVector.from_existing_graph(\n",
    "    embeddings,\n",
    "    search_type=\"hybrid\",\n",
    "    node_label=\"Document\",\n",
    "    text_node_properties=[\"text\"],\n",
    "    embedding_node_property=\"embedding\"\n",
    ")\n",
    "vector_retriever = vector_index.as_retriever()\n",
    "\n",
    "# 將 Node/Relationship 搜尋與文本搜尋兩種方式結合\n",
    "def full_retriever(question: str):\n",
    "    graph_data = graph_retriever(question)\n",
    "    vector_data = [el.page_content for el in vector_retriever.invoke(question)]\n",
    "    final_data = f\"\"\"Graph data:\n",
    "{graph_data}\n",
    "vector data:\n",
    "{\"\\n\\n\".join(vector_data)}\n",
    "    \"\"\"\n",
    "    return final_data\n",
    "\n",
    "native_llm_chain = ( gpt4o | StrOutputParser() )\n",
    "\n",
    "template = \"\"\"Use the following knowledge graph context and vector text to answer the question comprehensively. Base your answer strictly on the context provided.\n",
    "If additional information seems relevant but isn't in the context, indicate that it's not present in the knowledge graph. Answer in Traditional Chinese.\n",
    "\n",
    "Context:\n",
    "{context}\n",
    "\n",
    "Question: {question}\n",
    "\n",
    "Provide a clear, thorough answer based on the context above:\n",
    "Answer:\"\"\"\n",
    "\n",
    "prompt = ChatPromptTemplate.from_template(template)\n",
    "\n",
    "KG_chain = (\n",
    "    {\n",
    "        \"context\": full_retriever,  # 呼叫 full_retriever 來取得相關知識圖譜內容\n",
    "        \"question\": RunnablePassthrough(),  # 傳入實際問題\n",
    "    }\n",
    "    | prompt\n",
    "    | gpt4o  # 使用 LLM 根據 prompt 模板回答\n",
    "    | StrOutputParser()  # 將 LLM 回答解析為純文字\n",
    ")"
   ]
  },
  {
   "cell_type": "code",
   "execution_count": 9,
   "metadata": {
    "colab": {
     "base_uri": "https://localhost:8080/",
     "height": 35
    },
    "executionInfo": {
     "elapsed": 1399,
     "status": "ok",
     "timestamp": 1736410260425,
     "user": {
      "displayName": "許銘軒",
      "userId": "05699376018426595761"
     },
     "user_tz": -480
    },
    "id": "-mRyA6dI5VVR",
    "outputId": "7e9d3b05-5ef4-49d2-a25c-b8a36ec5f8b4"
   },
   "outputs": [
    {
     "data": {
      "text/html": [
       "<pre style=\"white-space:pre;overflow-x:auto;line-height:normal;font-family:Menlo,'DejaVu Sans Mono',consolas,'Courier New',monospace\"><span style=\"color: #800080; text-decoration-color: #800080; font-weight: bold\">Entities</span><span style=\"font-weight: bold\">(</span><span style=\"color: #808000; text-decoration-color: #808000\">names</span>=<span style=\"font-weight: bold\">[</span><span style=\"color: #008000; text-decoration-color: #008000\">'孔明'</span>, <span style=\"color: #008000; text-decoration-color: #008000\">'孟獲'</span><span style=\"font-weight: bold\">])</span>\n",
       "</pre>\n"
      ],
      "text/plain": [
       "\u001b[1;35mEntities\u001b[0m\u001b[1m(\u001b[0m\u001b[33mnames\u001b[0m=\u001b[1m[\u001b[0m\u001b[32m'孔明'\u001b[0m, \u001b[32m'孟獲'\u001b[0m\u001b[1m]\u001b[0m\u001b[1m)\u001b[0m\n"
      ]
     },
     "metadata": {},
     "output_type": "display_data"
    }
   ],
   "source": [
    "pprint(entity_chain.invoke(\"孔明和孟獲之間發生過什麼事？\"))"
   ]
  },
  {
   "cell_type": "code",
   "execution_count": 10,
   "metadata": {
    "colab": {
     "base_uri": "https://localhost:8080/",
     "height": 526
    },
    "executionInfo": {
     "elapsed": 1055,
     "status": "ok",
     "timestamp": 1736410269960,
     "user": {
      "displayName": "許銘軒",
      "userId": "05699376018426595761"
     },
     "user_tz": -480
    },
    "id": "c7BC7oYXHfwj",
    "outputId": "e7e8d511-ad95-43ee-8429-c63927f93d0b"
   },
   "outputs": [
    {
     "data": {
      "text/html": [
       "<pre style=\"white-space:pre;overflow-x:auto;line-height:normal;font-family:Menlo,'DejaVu Sans Mono',consolas,'Courier New',monospace\">Graph data:\n",
       "孔明 - RELEASED -&gt; 孟獲\n",
       "孔明 - RELEASED -&gt; 祝融夫人\n",
       "孔明 - REWARDED -&gt; 楊鋒\n",
       "孔明 - REWARDED -&gt; 楊鋒之子\n",
       "孔明 - RETURNED_TO -&gt; 寨中\n",
       "孔明 - RETURNED_TO -&gt; 成都\n",
       "孔明 - ENEMY -&gt; 司馬懿\n",
       "孔明 - LEADER -&gt; 蜀陣\n",
       "孔明 - ORDER -&gt; 衣襟\n",
       "孔明 - ORDER -&gt; 關興\n",
       "孟獲 - RELEASED -&gt; 馬忠\n",
       "孟獲 - RELEASED -&gt; 張嶷\n",
       "孟獲 - RETURNED_TO -&gt; 銀坑洞\n",
       "孟獲 - ENEMY -&gt; 蜀兵\n",
       "孟獲 - RELATIVE -&gt; 帶來洞主\n",
       "孟獲 - LEADER -&gt; 蠻洞\n",
       "孟獲 - LEADER -&gt; 蠻兵\n",
       "孟獲 - LEADER -&gt; 宗黨\n",
       "孟獲 - SPOUSE -&gt; 祝融夫人\n",
       "孟獲 - INFORMED -&gt; 木鹿大王\n",
       "\n",
       "vector data:\n",
       "\n",
       "text: \n",
       "次日，孔明正要分兵緝擒孟獲，忽報：「蠻王孟獲妻弟帶來洞主，因勸孟獲歸降，獲不從，今將孟獲並祝融夫人及宗黨數百餘人盡\n",
       "皆擒來，獻與丞相。」\n",
       "孔明聽知，即喚張嶷、馬忠，分付如此如此。二將受了計，引二千精壯兵，伏於兩廊。孔明即令守門將，俱放進來。帶來洞主引刀\n",
       "斧手解孟獲等數百人，拜於殿下。孔明大喝曰：「與吾擒下！」兩廊壯兵齊出，二人捉一人，盡被執縛。孔明大笑曰：「量汝些小\n",
       "詭計，如何瞞得過我！汝見二次俱是本洞人擒汝來降，吾不加害汝，只道吾深信，故來詐降，欲就洞中殺吾！」喝令武士搜其身畔\n",
       "，果然各帶利刀。\n",
       "\n",
       "\n",
       "text: \n",
       "正慮之間，人報蜀兵以度江，見在本洞前下寨。孟獲甚是慌張。忽然屏後一人大笑而出曰：「既為男子，何無智也？我雖是一婦人\n",
       "，願與你出戰。」獲視之，乃妻祝融夫人也。夫人世居南蠻，乃祝融氏之後；善使飛刀，百發百中。孟獲起身稱謝。夫人忻然上馬\n",
       "，引宗黨猛將數百員，生力洞兵五萬，出銀坑宮闕，來與蜀兵對敵。\n",
       "\n",
       "\n",
       "text: \n",
       "孔明問孟獲曰：「汝原說在汝家擒住，方始心服；今日如何？」獲曰：「此是我等自來送死，非汝之能也。吾心未服。」孔明曰：\n",
       "「吾擒住六番，尚然不服，欲待何時耶？」獲曰：「汝第七次擒住，吾方傾心歸服，誓不反矣。」孔明曰：「巢穴已破，吾何慮哉\n",
       "？」令武士盡去其縛，叱之曰：「這番擒住，再若支吾，必不輕恕！」孟獲等抱頭鼠竄而去。\n",
       "\n",
       "\n",
       "text: \n",
       "孔明乃請孟獲上帳，設宴慶賀，就令永為洞主。所奪之地，盡皆退還。孟獲宗黨及諸蠻兵，無不感戴，皆欣然跳躍而去。後人有詩\n",
       "讚孔明曰：\n",
       "羽扇綸巾擁碧幛，七擒妙策制蠻王，至今溪洞傳威德，為選高原立廟堂。\n",
       "    \n",
       "</pre>\n"
      ],
      "text/plain": [
       "Graph data:\n",
       "孔明 - RELEASED -> 孟獲\n",
       "孔明 - RELEASED -> 祝融夫人\n",
       "孔明 - REWARDED -> 楊鋒\n",
       "孔明 - REWARDED -> 楊鋒之子\n",
       "孔明 - RETURNED_TO -> 寨中\n",
       "孔明 - RETURNED_TO -> 成都\n",
       "孔明 - ENEMY -> 司馬懿\n",
       "孔明 - LEADER -> 蜀陣\n",
       "孔明 - ORDER -> 衣襟\n",
       "孔明 - ORDER -> 關興\n",
       "孟獲 - RELEASED -> 馬忠\n",
       "孟獲 - RELEASED -> 張嶷\n",
       "孟獲 - RETURNED_TO -> 銀坑洞\n",
       "孟獲 - ENEMY -> 蜀兵\n",
       "孟獲 - RELATIVE -> 帶來洞主\n",
       "孟獲 - LEADER -> 蠻洞\n",
       "孟獲 - LEADER -> 蠻兵\n",
       "孟獲 - LEADER -> 宗黨\n",
       "孟獲 - SPOUSE -> 祝融夫人\n",
       "孟獲 - INFORMED -> 木鹿大王\n",
       "\n",
       "vector data:\n",
       "\n",
       "text: \n",
       "次日，孔明正要分兵緝擒孟獲，忽報：「蠻王孟獲妻弟帶來洞主，因勸孟獲歸降，獲不從，今將孟獲並祝融夫人及宗黨數百餘人盡\n",
       "皆擒來，獻與丞相。」\n",
       "孔明聽知，即喚張嶷、馬忠，分付如此如此。二將受了計，引二千精壯兵，伏於兩廊。孔明即令守門將，俱放進來。帶來洞主引刀\n",
       "斧手解孟獲等數百人，拜於殿下。孔明大喝曰：「與吾擒下！」兩廊壯兵齊出，二人捉一人，盡被執縛。孔明大笑曰：「量汝些小\n",
       "詭計，如何瞞得過我！汝見二次俱是本洞人擒汝來降，吾不加害汝，只道吾深信，故來詐降，欲就洞中殺吾！」喝令武士搜其身畔\n",
       "，果然各帶利刀。\n",
       "\n",
       "\n",
       "text: \n",
       "正慮之間，人報蜀兵以度江，見在本洞前下寨。孟獲甚是慌張。忽然屏後一人大笑而出曰：「既為男子，何無智也？我雖是一婦人\n",
       "，願與你出戰。」獲視之，乃妻祝融夫人也。夫人世居南蠻，乃祝融氏之後；善使飛刀，百發百中。孟獲起身稱謝。夫人忻然上馬\n",
       "，引宗黨猛將數百員，生力洞兵五萬，出銀坑宮闕，來與蜀兵對敵。\n",
       "\n",
       "\n",
       "text: \n",
       "孔明問孟獲曰：「汝原說在汝家擒住，方始心服；今日如何？」獲曰：「此是我等自來送死，非汝之能也。吾心未服。」孔明曰：\n",
       "「吾擒住六番，尚然不服，欲待何時耶？」獲曰：「汝第七次擒住，吾方傾心歸服，誓不反矣。」孔明曰：「巢穴已破，吾何慮哉\n",
       "？」令武士盡去其縛，叱之曰：「這番擒住，再若支吾，必不輕恕！」孟獲等抱頭鼠竄而去。\n",
       "\n",
       "\n",
       "text: \n",
       "孔明乃請孟獲上帳，設宴慶賀，就令永為洞主。所奪之地，盡皆退還。孟獲宗黨及諸蠻兵，無不感戴，皆欣然跳躍而去。後人有詩\n",
       "讚孔明曰：\n",
       "羽扇綸巾擁碧幛，七擒妙策制蠻王，至今溪洞傳威德，為選高原立廟堂。\n",
       "    \n"
      ]
     },
     "metadata": {},
     "output_type": "display_data"
    }
   ],
   "source": [
    "pprint(full_retriever(\"孔明和孟獲之間發生過什麼事？\"))"
   ]
  },
  {
   "cell_type": "code",
   "execution_count": 11,
   "metadata": {
    "colab": {
     "base_uri": "https://localhost:8080/",
     "height": 252
    },
    "executionInfo": {
     "elapsed": 2202,
     "status": "ok",
     "timestamp": 1736410274656,
     "user": {
      "displayName": "許銘軒",
      "userId": "05699376018426595761"
     },
     "user_tz": -480
    },
    "id": "dtU0iMNgtHNY",
    "outputId": "3c1db11f-ed03-4d96-beaa-4dd39e420e0e"
   },
   "outputs": [
    {
     "data": {
      "text/html": [
       "<pre style=\"white-space:pre;overflow-x:auto;line-height:normal;font-family:Menlo,'DejaVu Sans Mono',consolas,'Courier New',monospace\">根據提供的知識圖譜和文本內容，孔明和孟獲之間發生了以下事件：\n",
       "\n",
       "<span style=\"color: #008080; text-decoration-color: #008080; font-weight: bold\">1</span>. **釋放與獎賞**：\n",
       "   - 孔明釋放了孟獲和祝融夫人。\n",
       "   - 孔明獎賞了楊鋒及其子。\n",
       "\n",
       "<span style=\"color: #008080; text-decoration-color: #008080; font-weight: bold\">2</span>. **戰爭與擒獲**：\n",
       "   - \n",
       "孔明多次擒獲孟獲。根據文本，孔明至少六次擒住孟獲，但孟獲仍未心服，直到第七次擒住後，孟獲才表示心服，並誓言不再反叛\n",
       "。\n",
       "   - 孟獲的妻子祝融夫人也參與了戰鬥，她善使飛刀，並帶領宗黨猛將和洞兵與蜀兵對敵。\n",
       "\n",
       "<span style=\"color: #008080; text-decoration-color: #008080; font-weight: bold\">3</span>. **計謀與反詐降**：\n",
       "   - 孟獲曾試圖詐降，但被孔明識破。孔明命令武士搜查孟獲等人，發現他們身上帶有利刀，證明了他們的詐降企圖。\n",
       "\n",
       "<span style=\"color: #008080; text-decoration-color: #008080; font-weight: bold\">4</span>. **釋放與歸還領地**：\n",
       "   - \n",
       "在第七次擒住孟獲後，孔明設宴慶賀，並釋放孟獲，讓他永為洞主，並將所奪之地全部退還。孟獲及其宗黨和諸蠻兵對此感激不已\n",
       "。\n",
       "\n",
       "<span style=\"color: #008080; text-decoration-color: #008080; font-weight: bold\">5</span>. **詩讚孔明**：\n",
       "   - 後人有詩讚孔明的智慧和策略，稱其七擒孟獲的妙策至今傳頌。\n",
       "\n",
       "這些事件展示了孔明的智慧和策略，以及他對孟獲的寬容和仁慈，最終使孟獲心服口服，停止反叛。\n",
       "</pre>\n"
      ],
      "text/plain": [
       "根據提供的知識圖譜和文本內容，孔明和孟獲之間發生了以下事件：\n",
       "\n",
       "\u001b[1;36m1\u001b[0m. **釋放與獎賞**：\n",
       "   - 孔明釋放了孟獲和祝融夫人。\n",
       "   - 孔明獎賞了楊鋒及其子。\n",
       "\n",
       "\u001b[1;36m2\u001b[0m. **戰爭與擒獲**：\n",
       "   - \n",
       "孔明多次擒獲孟獲。根據文本，孔明至少六次擒住孟獲，但孟獲仍未心服，直到第七次擒住後，孟獲才表示心服，並誓言不再反叛\n",
       "。\n",
       "   - 孟獲的妻子祝融夫人也參與了戰鬥，她善使飛刀，並帶領宗黨猛將和洞兵與蜀兵對敵。\n",
       "\n",
       "\u001b[1;36m3\u001b[0m. **計謀與反詐降**：\n",
       "   - 孟獲曾試圖詐降，但被孔明識破。孔明命令武士搜查孟獲等人，發現他們身上帶有利刀，證明了他們的詐降企圖。\n",
       "\n",
       "\u001b[1;36m4\u001b[0m. **釋放與歸還領地**：\n",
       "   - \n",
       "在第七次擒住孟獲後，孔明設宴慶賀，並釋放孟獲，讓他永為洞主，並將所奪之地全部退還。孟獲及其宗黨和諸蠻兵對此感激不已\n",
       "。\n",
       "\n",
       "\u001b[1;36m5\u001b[0m. **詩讚孔明**：\n",
       "   - 後人有詩讚孔明的智慧和策略，稱其七擒孟獲的妙策至今傳頌。\n",
       "\n",
       "這些事件展示了孔明的智慧和策略，以及他對孟獲的寬容和仁慈，最終使孟獲心服口服，停止反叛。\n"
      ]
     },
     "metadata": {},
     "output_type": "display_data"
    }
   ],
   "source": [
    "pprint(KG_chain.invoke(input=\"孔明和孟獲之間發生過什麼事？\"))"
   ]
  },
  {
   "cell_type": "code",
   "execution_count": 12,
   "metadata": {},
   "outputs": [
    {
     "data": {
      "text/html": [
       "<pre style=\"white-space:pre;overflow-x:auto;line-height:normal;font-family:Menlo,'DejaVu Sans Mono',consolas,'Courier New',monospace\">孔明（諸葛亮）和孟獲之間的故事主要發生在三國時期，這段歷史在《三國演義》中有詳細的描述。根據《三國演義》的記載，諸\n",
       "葛亮在南征時遇到了南蠻首領孟獲。孟獲多次反叛蜀漢，諸葛亮決定親自率軍南征，平定叛亂。\n",
       "\n",
       "在這段故事中，諸葛亮展現了他的智慧和策略。他七擒七縱孟獲，意思是他七次俘虜孟獲，又七次釋放他。每次釋放孟獲後，孟獲\n",
       "都重新組織力量反抗，但每次都被諸葛亮再次俘虜。最終，孟獲被諸葛亮的仁德和智慧所感動，心悅誠服，表示願意永遠歸順蜀漢\n",
       "。\n",
       "\n",
       "這段故事突顯了諸葛亮的仁政和策略，也展示了他在軍事和政治上的卓越才能。不過需要注意的是，《三國演義》是一部歷史小說\n",
       "，其中的許多情節是基於歷史事實進行的藝術加工，並不完全等同於真實的歷史記載。\n",
       "</pre>\n"
      ],
      "text/plain": [
       "孔明（諸葛亮）和孟獲之間的故事主要發生在三國時期，這段歷史在《三國演義》中有詳細的描述。根據《三國演義》的記載，諸\n",
       "葛亮在南征時遇到了南蠻首領孟獲。孟獲多次反叛蜀漢，諸葛亮決定親自率軍南征，平定叛亂。\n",
       "\n",
       "在這段故事中，諸葛亮展現了他的智慧和策略。他七擒七縱孟獲，意思是他七次俘虜孟獲，又七次釋放他。每次釋放孟獲後，孟獲\n",
       "都重新組織力量反抗，但每次都被諸葛亮再次俘虜。最終，孟獲被諸葛亮的仁德和智慧所感動，心悅誠服，表示願意永遠歸順蜀漢\n",
       "。\n",
       "\n",
       "這段故事突顯了諸葛亮的仁政和策略，也展示了他在軍事和政治上的卓越才能。不過需要注意的是，《三國演義》是一部歷史小說\n",
       "，其中的許多情節是基於歷史事實進行的藝術加工，並不完全等同於真實的歷史記載。\n"
      ]
     },
     "metadata": {},
     "output_type": "display_data"
    }
   ],
   "source": [
    "pprint(native_llm_chain.invoke(input=\"孔明和孟獲之間發生過什麼事？\"))"
   ]
  },
  {
   "cell_type": "markdown",
   "metadata": {},
   "source": [
    "# Evaluation"
   ]
  },
  {
   "cell_type": "code",
   "execution_count": 13,
   "metadata": {},
   "outputs": [
    {
     "name": "stderr",
     "output_type": "stream",
     "text": [
      "/opt/anaconda3/envs/langchain/lib/python3.12/site-packages/tqdm/auto.py:21: TqdmWarning: IProgress not found. Please update jupyter and ipywidgets. See https://ipywidgets.readthedocs.io/en/stable/user_install.html\n",
      "  from .autonotebook import tqdm as notebook_tqdm\n"
     ]
    }
   ],
   "source": [
    "from ragas import EvaluationDataset\n",
    "\n",
    "sample_queries = [\n",
    "    \"誰是祝融夫人？\",\n",
    "    \"孟獲被諸葛亮第幾次擒住後才真心歸降？\",\n",
    "    \"孔明用什麼方法平定了烏戈國的藤甲軍？\",\n",
    "    \"趙雲在鳳鳴山與韓德及其四子交戰的結果如何？\",\n",
    "    \"孔明如何智取南安城？\",\n",
    "]\n",
    "\n",
    "expected_responses = [\n",
    "    \"祝融夫人是孟獲的妻子，南蠻祝融氏之後，善使飛刀，百發百中。\",\n",
    "    \"孟獲被諸葛亮第七次擒住後才真心歸降，並誓不再反。\",\n",
    "    \"孔明利用火攻之計，在盤蛇谷用火藥和火砲燒毀了烏戈國的藤甲軍。\",\n",
    "    \"趙雲在鳳鳴山與韓德及其四子交戰，最終斬殺了韓德及其三子，並生擒了次子韓瑤。\",\n",
    "    \"孔明利用崔諒和楊陵的內應計策，讓關興和張苞扮作安定軍馬進入南安城，最終擒住了夏侯楙。\",\n",
    "]\n",
    "\n",
    "dataset = []\n",
    "\n",
    "for query, reference in zip(sample_queries, expected_responses):\n",
    "    relevant_docs = vector_retriever.invoke(query)\n",
    "    response = KG_chain.invoke(input=query)\n",
    "    dataset.append(\n",
    "        {\n",
    "            \"user_input\": query,\n",
    "            \"retrieved_contexts\": [rdoc.page_content for rdoc in relevant_docs],\n",
    "            \"response\": response,\n",
    "            \"reference\": reference,\n",
    "        }\n",
    "    )\n",
    "\n",
    "evaluation_dataset = EvaluationDataset.from_list(dataset)"
   ]
  },
  {
   "cell_type": "code",
   "execution_count": 14,
   "metadata": {},
   "outputs": [
    {
     "name": "stderr",
     "output_type": "stream",
     "text": [
      "Evaluating: 100%|██████████| 15/15 [00:33<00:00,  2.21s/it]\n"
     ]
    },
    {
     "data": {
      "text/plain": [
       "{'context_recall': 1.0000, 'faithfulness': 0.9235, 'factual_correctness': 0.4300}"
      ]
     },
     "execution_count": 14,
     "metadata": {},
     "output_type": "execute_result"
    }
   ],
   "source": [
    "from ragas import evaluate\n",
    "from ragas.llms import LangchainLLMWrapper\n",
    "from ragas.metrics import LLMContextRecall, Faithfulness, FactualCorrectness\n",
    "\n",
    "evaluator_llm = LangchainLLMWrapper(gpt4o)\n",
    "\n",
    "result = evaluate(\n",
    "    dataset=evaluation_dataset,\n",
    "    metrics=[LLMContextRecall(), Faithfulness(), FactualCorrectness()],\n",
    "    llm=evaluator_llm,\n",
    ")\n",
    "\n",
    "result"
   ]
  }
 ],
 "metadata": {
  "colab": {
   "provenance": []
  },
  "kernelspec": {
   "display_name": "langchain",
   "language": "python",
   "name": "python3"
  },
  "language_info": {
   "codemirror_mode": {
    "name": "ipython",
    "version": 3
   },
   "file_extension": ".py",
   "mimetype": "text/x-python",
   "name": "python",
   "nbconvert_exporter": "python",
   "pygments_lexer": "ipython3",
   "version": "3.12.8"
  }
 },
 "nbformat": 4,
 "nbformat_minor": 0
}
