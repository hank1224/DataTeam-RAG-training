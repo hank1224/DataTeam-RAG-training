{
 "cells": [
  {
   "cell_type": "markdown",
   "metadata": {},
   "source": [
    "# Native GraphRAG"
   ]
  },
  {
   "cell_type": "code",
   "execution_count": null,
   "metadata": {},
   "outputs": [
    {
     "name": "stdout",
     "output_type": "stream",
     "text": [
      "\n",
      "\n",
      "creating llm client with {'api_key': 'REDACTED,len=32', 'type': \"azure_openai_chat\", 'encoding_model': 'cl100k_base', 'model': 'gpt-4o', 'max_tokens': 4000, 'temperature': 0.0, 'top_p': 1.0, 'n': 1, 'frequency_penalty': 0.0, 'presence_penalty': 0.0, 'request_timeout': 180.0, 'api_base': 'https://chenhaoen-eastus2.openai.azure.com', 'api_version': '2024-02-15-preview', 'organization': None, 'proxy': None, 'audience': None, 'deployment_name': 'gpt-4o', 'model_supports_json': True, 'tokens_per_minute': 0, 'requests_per_minute': 0, 'max_retries': 10, 'max_retry_wait': 10.0, 'sleep_on_rate_limit_recommendation': True, 'concurrent_requests': 25, 'responses': None}\n",
      "\n",
      "SUCCESS: Global Search Response:\n",
      "### 三國演義中的重要部分\n",
      "\n",
      "《三國演義》是一部描寫三國時期歷史事件的經典小說，涵蓋了許多重要的戰役和人物。以下是一些關鍵部分的概述：\n",
      "\n",
      "#### 諸葛亮的軍事策略與戰役\n",
      "諸葛亮在蜀漢國的核心角色，包括他的軍事策略和戰役，如北伐和南征，是三國故事的重要組成部分 [Data: Reports (9)]。他在銀坑洞的佔領以及大寨和漢中的戰略重要性，顯示了他在軍事行動中的智慧和決策 [Data: Reports (9)]。\n",
      "\n",
      "#### 魏延的軍事活動\n",
      "魏延在蜀漢的軍事活動和戰略決策，包括他在白起和子午谷的戰略使用，以及他在梁州的治理，都是三國演義中的重要情節 [Data: Reports (14)]。\n",
      "\n",
      "#### 趙雲的英雄事蹟\n",
      "趙雲在三國時期的軍事活動，包括他在三江大路口和鳳鳴山的防守，以及他在當陽的英雄事蹟，展示了他的勇敢和忠誠 [Data: Reports (27)]。\n",
      "\n",
      "#### 張翼和���苞的軍事行動\n",
      "張翼和張苞在蜀漢的軍事行動，包括他們在諸葛亮指揮下的戰略行動和對魏國將領的擊殺，反映了蜀漢軍隊的戰鬥力和策略 [Data: Reports (12, 21)]。\n",
      "\n",
      "#### 蜀漢與魏國的衝突\n",
      "蜀漢與魏國之間的衝突和軍事行動，包括鄧芝在蜀漢的角色和蜀漢與吳國的合作，展示了三國時期複雜的政治和軍事動態 [Data: Reports (24)]。\n",
      "\n",
      "#### 其他重要人物和事件\n",
      "其他重要人物如張翼、馬岱、孟獲等人的軍事活動，以及他們在三國時期的角色和貢獻，也構成了三國演義的豐富內容 [Data: Reports (15, 18, 19, +more)]。\n",
      "\n",
      "### 結論\n",
      "《三國演義》通過描寫諸葛亮、魏延、趙雲等人的軍事活動和策略，展示了三國時期的複雜局勢和英雄事蹟。這些故事不僅反映了歷史事件，還突顯了人物的智慧、勇氣和忠誠。\n"
     ]
    },
    {
     "data": {
      "text/plain": [
       "CompletedProcess(args='graphrag query --root . --method global --query 這些故事包含了三國演義的哪些部分？', returncode=0)"
      ]
     },
     "execution_count": 4,
     "metadata": {},
     "output_type": "execute_result"
    }
   ],
   "source": [
    "import subprocess\n",
    "\n",
    "command = [\n",
    "    \"graphrag\", \"query\",\n",
    "    \"--root\", \".\",\n",
    "    \"--method\", \"global\",\n",
    "    \"--query\", \"這些故事包含了三國演義的哪些部分？\"\n",
    "]\n",
    "\n",
    "subprocess.run(\" \".join(command), shell=True, check=True)\n"
   ]
  },
  {
   "cell_type": "code",
   "execution_count": null,
   "metadata": {},
   "outputs": [
    {
     "name": "stdout",
     "output_type": "stream",
     "text": [
      "\n",
      "\n",
      "\n",
      "INFO: Vector Store Args: {\n",
      "    \"type\": \"lancedb\",\n",
      "    \"db_uri\": \"/Users/hank/CodeSpace/DataTeam-RAG-training/0117-GraphRAG-Evaluation/GraphRAG/output/lancedb\",\n",
      "    \"container_name\": \"==== REDACTED ====\",\n",
      "    \"overwrite\": true\n",
      "}\n",
      "creating llm client with {'api_key': 'REDACTED,len=32', 'type': \"azure_openai_chat\", 'encoding_model': 'cl100k_base', 'model': 'gpt-4o', 'max_tokens': 4000, 'temperature': 0.0, 'top_p': 1.0, 'n': 1, 'frequency_penalty': 0.0, 'presence_penalty': 0.0, 'request_timeout': 180.0, 'api_base': 'https://chenhaoen-eastus2.openai.azure.com', 'api_version': '2024-02-15-preview', 'organization': None, 'proxy': None, 'audience': None, 'deployment_name': 'gpt-4o', 'model_supports_json': True, 'tokens_per_minute': 0, 'requests_per_minute': 0, 'max_retries': 10, 'max_retry_wait': 10.0, 'sleep_on_rate_limit_recommendation': True, 'concurrent_requests': 25, 'responses': None}\n",
      "creating embedding llm client with {'api_key': 'REDACTED,len=84', 'type': \"azure_openai_embedding\", 'encoding_model': 'cl100k_base', 'model': 'text-embedding-3-small', 'max_tokens': 4000, 'temperature': 0, 'top_p': 1, 'n': 1, 'frequency_penalty': 0.0, 'presence_penalty': 0.0, 'request_timeout': 180.0, 'api_base': 'https://group2resources.openai.azure.com', 'api_version': '2024-02-15-preview', 'organization': None, 'proxy': None, 'audience': None, 'deployment_name': 'text-embedding-3-small', 'model_supports_json': None, 'tokens_per_minute': 0, 'requests_per_minute': 0, 'max_retries': 10, 'max_retry_wait': 10.0, 'sleep_on_rate_limit_recommendation': True, 'concurrent_requests': 25, 'responses': None}\n",
      "\n",
      "SUCCESS: Local Search Response:\n",
      "# 孔明和孟獲之間的事件\n",
      "\n",
      "## 孔明與孟獲的對抗\n",
      "\n",
      "孔明（諸葛亮）和孟獲之間的對抗是三國時期的一個重要事件。孟獲是南蠻部落的領袖，他多次反抗蜀漢的統治。孔明在南征期間，採取了多次捕捉和釋放孟獲的策略，這種策略最終成功地使孟獲心服口服，並穩定了南方的局勢 [Data: Reports (9); Entities (23); Relationships (41, 58)]。\n",
      "\n",
      "## 捕捉與釋放策略\n",
      "\n",
      "孔明在南征期間，多次捕捉孟獲，並在每次捕捉後釋放他。這種策略不僅展示了孔明的寬容和智慧，也使孟獲最終認識到反抗的無用，並最終歸順蜀漢 [Data: Reports (9); Entities (23); Relationships (41, 58)]。這一策略的成功，顯示了孔明在軍事和心理戰方面的卓越才能。\n",
      "\n",
      "## 孟獲的反抗與合作\n",
      "\n",
      "孟獲在與孔明的對抗中，曾多次尋求外援，包括向烏戈國求助，並與其他部落聯合對抗蜀漢。然而，這些���力最終都被孔明的策略所瓦解 [Data: Entities (23); Relationships (68, 80)]。在多次失敗後，孟獲最終被孔明的智慧和寬容所折服，並決定與蜀漢合作，這也為南方的穩定奠定了基礎。\n",
      "\n",
      "## 孔明的戰略與智慧\n",
      "\n",
      "孔明在南征期間，不僅展示了卓越的軍事才能，還展示了他在心理戰和外交上的智慧。他通過捕捉和釋放孟獲，最終使孟獲心服口服，這一策略也成為歷史上的經典案例 [Data: Reports (9); Entities (27); Relationships (41, 58, 202, 97)]。此外，孔明還通過與當地土人的合作，成功地在南方建立了穩定的統治 [Data: Reports (9); Entities (59); Relationships (110)]。\n",
      "\n",
      "## 結論\n",
      "\n",
      "孔明與孟獲之間的對抗，是三國時期蜀漢南征的一個重要部分。通過捕捉和釋放孟獲，孔明最終成功地穩定了南方的局勢，展示了他卓越的軍事和心理戰才能。這一事件不僅在當時具有重要意義，也成為後世研究���事策略的重要案例。\n"
     ]
    },
    {
     "data": {
      "text/plain": [
       "CompletedProcess(args='graphrag query --root . --method local --query 孔明和孟獲之間發生過什麼事？', returncode=0)"
      ]
     },
     "execution_count": 6,
     "metadata": {},
     "output_type": "execute_result"
    }
   ],
   "source": [
    "command = [\n",
    "    \"graphrag\", \"query\",\n",
    "    \"--root\", \".\",\n",
    "    \"--method\", \"local\",\n",
    "    \"--query\", \"孔明和孟獲之間發生過什麼事？\"\n",
    "]\n",
    "\n",
    "subprocess.run(\" \".join(command), shell=True, check=True)"
   ]
  }
 ],
 "metadata": {
  "kernelspec": {
   "display_name": "GraphRAG",
   "language": "python",
   "name": "python3"
  },
  "language_info": {
   "codemirror_mode": {
    "name": "ipython",
    "version": 3
   },
   "file_extension": ".py",
   "mimetype": "text/x-python",
   "name": "python",
   "nbconvert_exporter": "python",
   "pygments_lexer": "ipython3",
   "version": "3.10.16"
  }
 },
 "nbformat": 4,
 "nbformat_minor": 2
}
