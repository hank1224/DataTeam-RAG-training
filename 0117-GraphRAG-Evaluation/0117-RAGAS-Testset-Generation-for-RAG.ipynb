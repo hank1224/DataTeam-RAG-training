{
 "cells": [
  {
   "cell_type": "markdown",
   "metadata": {},
   "source": [
    "# 0117-RAGAS-Testset-Generation-for-RAG.ipynb\n",
    "\n",
    "https://docs.ragas.io/en/latest/getstarted/rag_testset_generation/\n",
    "\n",
    "### 失敗：RAGAS 自動生成目前有問題\n",
    "\n",
    "https://github.com/explodinggradients/ragas/issues/1730"
   ]
  },
  {
   "cell_type": "markdown",
   "metadata": {},
   "source": [
    "## Config"
   ]
  },
  {
   "cell_type": "code",
   "execution_count": 1,
   "metadata": {},
   "outputs": [
    {
     "name": "stderr",
     "output_type": "stream",
     "text": [
      "/opt/anaconda3/envs/ragas/lib/python3.10/site-packages/tqdm/auto.py:21: TqdmWarning: IProgress not found. Please update jupyter and ipywidgets. See https://ipywidgets.readthedocs.io/en/stable/user_install.html\n",
      "  from .autonotebook import tqdm as notebook_tqdm\n"
     ]
    }
   ],
   "source": [
    "import os\n",
    "from dotenv import load_dotenv\n",
    "load_dotenv(\".env\")\n",
    "\n",
    "os.environ[\"LANGCHAIN_TRACING_V2\"] = \"true\"\n",
    "LANGCHAIN_API_KEY = os.environ[\"LANGCHAIN_API_KEY\"]\n",
    "\n",
    "Azure_OPENAI_API_KEY = os.environ[\"AZURE_OPENAI_API_KEY\"]\n",
    "\n",
    "from langchain_openai import AzureChatOpenAI, AzureOpenAIEmbeddings\n",
    "from ragas.llms import LangchainLLMWrapper\n",
    "from ragas.embeddings import LangchainEmbeddingsWrapper\n",
    "\n",
    "generator_llm = LangchainLLMWrapper(AzureChatOpenAI(\n",
    "    api_key=os.environ[\"MY_AZURE_OPENAI_API_KEY\"],\n",
    "    azure_endpoint = os.environ[\"MY_AZURE_OPENAI_ENDPOINT\"],\n",
    "    azure_deployment = os.environ[\"MY_AZURE_OPENAI_DEPLOYMENT_NAME_CHAT\"],\n",
    "    openai_api_version = os.environ[\"AZURE_OPENAI_API_VERSION\"],\n",
    "    temperature=0\n",
    "))\n",
    "\n",
    "# init the embeddings for answer_relevancy, answer_correctness and answer_similarity\n",
    "generator_embeddings = LangchainEmbeddingsWrapper(AzureOpenAIEmbeddings(\n",
    "    azure_endpoint = os.environ[\"AZURE_OPENAI_ENDPOINT\"],\n",
    "    azure_deployment = os.environ[\"AZURE_OPENAI_DEPLOYMENT_NAME_EMBEDDINGS\"],\n",
    "    openai_api_version = os.environ[\"AZURE_OPENAI_API_VERSION\"],\n",
    "))"
   ]
  },
  {
   "cell_type": "markdown",
   "metadata": {},
   "source": [
    "## Input doc"
   ]
  },
  {
   "cell_type": "code",
   "execution_count": 2,
   "metadata": {},
   "outputs": [],
   "source": [
    "from langchain_community.document_loaders import TextLoader, MergedDataLoader\n",
    "\n",
    "doc_1 = TextLoader(\"./data/90-Romance-of-the-Three-Kingdoms.txt\")\n",
    "doc_2 = TextLoader(\"./data/91-Romance-of-the-Three-Kingdoms.txt\")\n",
    "doc_3 = TextLoader(\"./data/92-Romance-of-the-Three-Kingdoms.txt\")\n",
    "\n",
    "docs = MergedDataLoader(loaders=[doc_1, doc_2, doc_3]).load()"
   ]
  },
  {
   "cell_type": "markdown",
   "metadata": {},
   "source": [
    "## Generate Testset"
   ]
  },
  {
   "cell_type": "code",
   "execution_count": 3,
   "metadata": {},
   "outputs": [
    {
     "name": "stderr",
     "output_type": "stream",
     "text": [
      "Applying SummaryExtractor:  17%|█▋        | 1/6 [00:01<00:09,  1.91s/it]  Property 'summary' already exists in node 'f2ea0a'. Skipping!\n",
      "Applying SummaryExtractor:  33%|███▎      | 2/6 [00:02<00:04,  1.15s/it]Property 'summary' already exists in node 'e1175e'. Skipping!\n",
      "Applying SummaryExtractor:  83%|████████▎ | 5/6 [00:03<00:00,  2.57it/s]Property 'summary' already exists in node '8be4c5'. Skipping!\n",
      "Applying [EmbeddingExtractor, ThemesExtractor, NERExtractor]:   0%|          | 0/6 [00:00<?, ?it/s]Property 'summary_embedding' already exists in node '8be4c5'. Skipping!\n",
      "Property 'summary_embedding' already exists in node 'f2ea0a'. Skipping!\n",
      "Property 'summary_embedding' already exists in node 'e1175e'. Skipping!\n",
      "Generating personas: 100%|██████████| 3/3 [00:00<00:00,  3.61it/s]                                         \n",
      "Generating Scenarios: 100%|██████████| 1/1 [00:04<00:00,  4.11s/it]\n",
      "Generating Samples: 0it [00:00, ?it/s]\n"
     ]
    }
   ],
   "source": [
    "from ragas.testset import TestsetGenerator\n",
    "\n",
    "generator = TestsetGenerator(llm=generator_llm, embedding_model=generator_embeddings)\n",
    "dataset = generator.generate_with_langchain_docs(docs, testset_size=10)"
   ]
  },
  {
   "cell_type": "code",
   "execution_count": 4,
   "metadata": {},
   "outputs": [
    {
     "data": {
      "text/html": [
       "<div>\n",
       "<style scoped>\n",
       "    .dataframe tbody tr th:only-of-type {\n",
       "        vertical-align: middle;\n",
       "    }\n",
       "\n",
       "    .dataframe tbody tr th {\n",
       "        vertical-align: top;\n",
       "    }\n",
       "\n",
       "    .dataframe thead th {\n",
       "        text-align: right;\n",
       "    }\n",
       "</style>\n",
       "<table border=\"1\" class=\"dataframe\">\n",
       "  <thead>\n",
       "    <tr style=\"text-align: right;\">\n",
       "      <th></th>\n",
       "    </tr>\n",
       "  </thead>\n",
       "  <tbody>\n",
       "  </tbody>\n",
       "</table>\n",
       "</div>"
      ],
      "text/plain": [
       "Empty DataFrame\n",
       "Columns: []\n",
       "Index: []"
      ]
     },
     "execution_count": 4,
     "metadata": {},
     "output_type": "execute_result"
    }
   ],
   "source": [
    "dataset.to_pandas()"
   ]
  },
  {
   "cell_type": "markdown",
   "metadata": {},
   "source": [
    "## 示意輸出\n",
    "\n",
    "![img](https://docs.ragas.io/en/latest/getstarted/testset_output.png)"
   ]
  }
 ],
 "metadata": {
  "kernelspec": {
   "display_name": "ragas",
   "language": "python",
   "name": "python3"
  },
  "language_info": {
   "codemirror_mode": {
    "name": "ipython",
    "version": 3
   },
   "file_extension": ".py",
   "mimetype": "text/x-python",
   "name": "python",
   "nbconvert_exporter": "python",
   "pygments_lexer": "ipython3",
   "version": "3.10.16"
  }
 },
 "nbformat": 4,
 "nbformat_minor": 2
}
