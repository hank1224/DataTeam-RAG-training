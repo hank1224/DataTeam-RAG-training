{
 "cells": [
  {
   "cell_type": "markdown",
   "metadata": {},
   "source": [
    "# Agents"
   ]
  },
  {
   "cell_type": "markdown",
   "metadata": {},
   "source": [
    "## Environment Setup\n",
    "\n",
    "- LangChain: [v0.2.17](https://pypi.org/project/langchain/0.2.17/)\n",
    "- Python: 3.12.7"
   ]
  },
  {
   "cell_type": "code",
   "execution_count": 1,
   "metadata": {},
   "outputs": [],
   "source": [
    "import os\n",
    "\n",
    "#load env vars\n",
    "from dotenv import load_dotenv\n",
    "load_dotenv(\".env\")\n",
    "\n",
    "from langchain_openai import AzureChatOpenAI\n",
    "\n",
    "os.environ[\"LANGCHAIN_TRACING_V2\"] = \"true\"\n",
    "LANGCHAIN_API_KEY = os.environ[\"LANGCHAIN_API_KEY\"]\n",
    "\n",
    "TAVILY_API_KEY = os.environ[\"TAVILY_API_KEY\"]\n",
    "Azure_OPENAI_API_KEY = os.environ[\"AZURE_OPENAI_API_KEY\"]\n",
    "\n",
    "model = AzureChatOpenAI(\n",
    "    azure_endpoint=os.environ[\"AZURE_OPENAI_ENDPOINT\"],\n",
    "    azure_deployment=os.environ[\"AZURE_OPENAI_DEPLOYMENT_NAME\"],\n",
    "    openai_api_version=os.environ[\"AZURE_OPENAI_API_VERSION\"],\n",
    ")"
   ]
  },
  {
   "cell_type": "code",
   "execution_count": 2,
   "metadata": {},
   "outputs": [],
   "source": [
    "import json\n",
    "\n",
    "def pretty_json(data):\n",
    "    return json.dumps(data, indent=4,sort_keys=True ,ensure_ascii=False)"
   ]
  },
  {
   "cell_type": "markdown",
   "metadata": {},
   "source": [
    "### Test Azure Open API"
   ]
  },
  {
   "cell_type": "code",
   "execution_count": 3,
   "metadata": {},
   "outputs": [
    {
     "data": {
      "text/plain": [
       "'The word \"strawberry\" contains three Rs.'"
      ]
     },
     "execution_count": 3,
     "metadata": {},
     "output_type": "execute_result"
    }
   ],
   "source": [
    "from langchain_core.messages import HumanMessage\n",
    "\n",
    "response = model.invoke([HumanMessage(content=\"How many Rs are there in strawberry?\")])\n",
    "response.content"
   ]
  },
  {
   "cell_type": "markdown",
   "metadata": {},
   "source": [
    "## Define tools"
   ]
  },
  {
   "cell_type": "markdown",
   "metadata": {},
   "source": [
    "### 我們選擇 Tavily\n",
    "\n",
    "官方教學選定的工具 [Tavily](https://tavily.com/)： 讓 LLM 使用網路搜尋的服務\n",
    "\n",
    "我們嘗試問一個有時效性的問題：`2024美國大選的結果？`\n",
    "\n",
    "從輸出可以看到，Tavily搜尋了一些新聞網站，並且列出網站內的內容。"
   ]
  },
  {
   "cell_type": "code",
   "execution_count": 4,
   "metadata": {},
   "outputs": [
    {
     "name": "stdout",
     "output_type": "stream",
     "text": [
      "[\n",
      "    {\n",
      "        \"content\": \"US Presidential Election Results 2024 - BBC News Close menu BBC News Kamala Harris of the Democrat party has 0 electoral college votes. Donald Trump of the Republican party has 0 electoral college votes. Kamala Harris of the Democrat party has 158,810 votes (38.4%) Donald Trump of the Republican party has 249,225 votes (60.2%) US presidential election results 2024 US election 2024 Voting in some states is particularly hard to predict, with polls showing they could be won by the Republicans or the Democratic party. The battleground states that could decide the 2024 presidential election are: Voters in 11 states will also elect a governor. US election polls: Who is ahead - Harris or Trump? US election 2024 About the BBC\",\n",
      "        \"url\": \"https://www.bbc.com/news/election/2024/us/results\"\n",
      "    },\n",
      "    {\n",
      "        \"content\": \"US Presidential Election Results 2024 - BBC News Close menu BBC News Kamala Harris of the Democrat party has 27 electoral college votes. Donald Trump of the Republican party has 90 electoral college votes. Kamala Harris of the Democrat party has 10,652,749 votes (44.9%) Donald Trump of the Republican party has 12,812,102 votes (54.0%) US presidential election results 2024 US election 2024 Voting in some states is particularly hard to predict, with polls showing they could be won by the Republicans or the Democratic party. Voters in 11 states will also elect a governor. How to follow the US election on the BBC Path to 270: The states Harris and Trump need to win US election 2024 About the BBC\",\n",
      "        \"url\": \"https://www.bbc.co.uk/news/election/2024/us/results\"\n",
      "    }\n",
      "]\n"
     ]
    }
   ],
   "source": [
    "from langchain_community.tools.tavily_search import TavilySearchResults\n",
    "\n",
    "search = TavilySearchResults(max_results=2)\n",
    "search_results = search.invoke(\"What's 2024 US presidential election result?\")\n",
    "\n",
    "print(pretty_json(search_results))"
   ]
  },
  {
   "cell_type": "markdown",
   "metadata": {},
   "source": [
    "### 將其綁定在model上"
   ]
  },
  {
   "cell_type": "code",
   "execution_count": 5,
   "metadata": {},
   "outputs": [],
   "source": [
    "# 我們已定義：search = TavilySearchResults(max_results=2)\n",
    "\n",
    "tools = [search]\n",
    "model_with_tools = model.bind_tools(tools)"
   ]
  },
  {
   "cell_type": "markdown",
   "metadata": {},
   "source": [
    "### 嘗試呼叫\n",
    "\n",
    "從我們的問題，`model_with_tools` 會根據問題的內容，選擇適合的工具，並且呼叫該工具。"
   ]
  },
  {
   "cell_type": "code",
   "execution_count": 6,
   "metadata": {},
   "outputs": [
    {
     "name": "stdout",
     "output_type": "stream",
     "text": [
      "ContentString: \n",
      "ToolCalls: [\n",
      "    {\n",
      "        \"args\": {\n",
      "            \"query\": \"2024 US presidential election results\"\n",
      "        },\n",
      "        \"id\": \"call_7wnuGCmA9N2ESXcPZcfoIZSt\",\n",
      "        \"name\": \"tavily_search_results_json\",\n",
      "        \"type\": \"tool_call\"\n",
      "    }\n",
      "]\n"
     ]
    }
   ],
   "source": [
    "# 此問題理應需要搜尋資料才能回答，可以看到它呼叫了工具\n",
    "\n",
    "response = model_with_tools.invoke([HumanMessage(content=\"What's 2024 US presidential election result?\")])\n",
    "\n",
    "print(f\"ContentString: {response.content}\")\n",
    "print(f\"ToolCalls: {pretty_json(response.tool_calls)}\")"
   ]
  },
  {
   "cell_type": "code",
   "execution_count": 7,
   "metadata": {},
   "outputs": [
    {
     "name": "stdout",
     "output_type": "stream",
     "text": [
      "ContentString: There are three Rs in the word \"strawberry.\"\n",
      "ToolCalls: []\n"
     ]
    }
   ],
   "source": [
    "# 不須使用 Search Tool 就能回答的問題，就不會呼叫\n",
    "\n",
    "response = model_with_tools.invoke([HumanMessage(content=\"How many Rs are there in strawberry?\")])\n",
    "\n",
    "print(f\"ContentString: {response.content}\")\n",
    "print(f\"ToolCalls: {response.tool_calls}\")"
   ]
  },
  {
   "cell_type": "markdown",
   "metadata": {},
   "source": [
    "## Create the Agent\n",
    "\n",
    "我們開始建立Agent，並且綁定了剛剛建立的 model(Azure OpenAI) 和 tools[Search]\n",
    "\n",
    "註： 我們使用 LangGraph 來建立 Agent"
   ]
  },
  {
   "cell_type": "code",
   "execution_count": 8,
   "metadata": {},
   "outputs": [],
   "source": [
    "from langgraph.prebuilt import create_react_agent\n",
    "\n",
    "agent_executor = create_react_agent(model, tools)"
   ]
  },
  {
   "cell_type": "markdown",
   "metadata": {},
   "source": [
    "詢問不須使用 tool 的問題"
   ]
  },
  {
   "cell_type": "code",
   "execution_count": 9,
   "metadata": {},
   "outputs": [
    {
     "data": {
      "text/plain": [
       "[HumanMessage(content='hi!', additional_kwargs={}, response_metadata={}, id='c99d606b-2559-4df8-9168-40049da6130d'),\n",
       " AIMessage(content='Hello! How can I assist you today?', additional_kwargs={'refusal': None}, response_metadata={'token_usage': {'completion_tokens': 10, 'prompt_tokens': 81, 'total_tokens': 91, 'completion_tokens_details': None, 'prompt_tokens_details': None}, 'model_name': 'gpt-4o-mini', 'system_fingerprint': 'fp_04751d0b65', 'prompt_filter_results': [{'prompt_index': 0, 'content_filter_results': {'hate': {'filtered': False, 'severity': 'safe'}, 'jailbreak': {'filtered': False, 'detected': False}, 'self_harm': {'filtered': False, 'severity': 'safe'}, 'sexual': {'filtered': False, 'severity': 'safe'}, 'violence': {'filtered': False, 'severity': 'safe'}}}], 'finish_reason': 'stop', 'logprobs': None, 'content_filter_results': {'hate': {'filtered': False, 'severity': 'safe'}, 'protected_material_code': {'filtered': False, 'detected': False}, 'protected_material_text': {'filtered': False, 'detected': False}, 'self_harm': {'filtered': False, 'severity': 'safe'}, 'sexual': {'filtered': False, 'severity': 'safe'}, 'violence': {'filtered': False, 'severity': 'safe'}}}, id='run-0960a3b0-9a73-4ab3-9a3d-9c3ae3645775-0', usage_metadata={'input_tokens': 81, 'output_tokens': 10, 'total_tokens': 91, 'input_token_details': {}, 'output_token_details': {}})]"
      ]
     },
     "execution_count": 9,
     "metadata": {},
     "output_type": "execute_result"
    }
   ],
   "source": [
    "from langchain.output_parsers import PydanticOutputParser\n",
    "\n",
    "\n",
    "response = agent_executor.invoke(\n",
    "    {\"messages\": [HumanMessage(content=\"hi!\")]}\n",
    ")\n",
    "\n",
    "response[\"messages\"]\n"
   ]
  },
  {
   "cell_type": "markdown",
   "metadata": {},
   "source": [
    "詢問需要使用 tool 的問題"
   ]
  },
  {
   "cell_type": "code",
   "execution_count": 10,
   "metadata": {},
   "outputs": [
    {
     "data": {
      "text/plain": [
       "[HumanMessage(content='whats the weather in sf?', additional_kwargs={}, response_metadata={}, id='9397d773-9377-407a-b4a5-fc8972d10385'),\n",
       " AIMessage(content='', additional_kwargs={'tool_calls': [{'id': 'call_3ehzoqSqwpcHgMB8W2kyC1Lx', 'function': {'arguments': '{\"query\":\"current weather in San Francisco\"}', 'name': 'tavily_search_results_json'}, 'type': 'function'}], 'refusal': None}, response_metadata={'token_usage': {'completion_tokens': 22, 'prompt_tokens': 86, 'total_tokens': 108, 'completion_tokens_details': None, 'prompt_tokens_details': None}, 'model_name': 'gpt-4o-mini', 'system_fingerprint': 'fp_04751d0b65', 'prompt_filter_results': [{'prompt_index': 0, 'content_filter_results': {'hate': {'filtered': False, 'severity': 'safe'}, 'jailbreak': {'filtered': False, 'detected': False}, 'self_harm': {'filtered': False, 'severity': 'safe'}, 'sexual': {'filtered': False, 'severity': 'safe'}, 'violence': {'filtered': False, 'severity': 'safe'}}}], 'finish_reason': 'tool_calls', 'logprobs': None, 'content_filter_results': {}}, id='run-d3a9c1de-b84b-460b-acc5-a41adb814d16-0', tool_calls=[{'name': 'tavily_search_results_json', 'args': {'query': 'current weather in San Francisco'}, 'id': 'call_3ehzoqSqwpcHgMB8W2kyC1Lx', 'type': 'tool_call'}], usage_metadata={'input_tokens': 86, 'output_tokens': 22, 'total_tokens': 108, 'input_token_details': {}, 'output_token_details': {}}),\n",
       " ToolMessage(content='[{\"url\": \"https://www.weatherapi.com/\", \"content\": \"{\\'location\\': {\\'name\\': \\'San Francisco\\', \\'region\\': \\'California\\', \\'country\\': \\'United States of America\\', \\'lat\\': 37.775, \\'lon\\': -122.4183, \\'tz_id\\': \\'America/Los_Angeles\\', \\'localtime_epoch\\': 1732455394, \\'localtime\\': \\'2024-11-24 05:36\\'}, \\'current\\': {\\'last_updated_epoch\\': 1732455000, \\'last_updated\\': \\'2024-11-24 05:30\\', \\'temp_c\\': 7.8, \\'temp_f\\': 46.0, \\'is_day\\': 0, \\'condition\\': {\\'text\\': \\'Fog\\', \\'icon\\': \\'//cdn.weatherapi.com/weather/64x64/night/248.png\\', \\'code\\': 1135}, \\'wind_mph\\': 5.1, \\'wind_kph\\': 8.3, \\'wind_degree\\': 160, \\'wind_dir\\': \\'SSE\\', \\'pressure_mb\\': 1017.0, \\'pressure_in\\': 30.03, \\'precip_mm\\': 0.0, \\'precip_in\\': 0.0, \\'humidity\\': 89, \\'cloud\\': 25, \\'feelslike_c\\': 6.4, \\'feelslike_f\\': 43.4, \\'windchill_c\\': 9.1, \\'windchill_f\\': 48.4, \\'heatindex_c\\': 9.8, \\'heatindex_f\\': 49.6, \\'dewpoint_c\\': 8.2, \\'dewpoint_f\\': 46.8, \\'vis_km\\': 16.0, \\'vis_miles\\': 9.0, \\'uv\\': 0.0, \\'gust_mph\\': 8.2, \\'gust_kph\\': 13.2}}\"}, {\"url\": \"https://www.timeanddate.com/weather/@z-us-94141/ext\", \"content\": \"San Francisco, USA 14 day weather forecast Time Zone News Calendar & Holiday News Time Zones Time Zones Home Time Zone News Calendar & Holiday News Weather Sun & Moon Home Sun Calculator Moon Calculator Calculators Calculators Home Home \\xa0 Weather \\xa0 San Francisco \\xa0 Two-week forecast Weather Time Zone Last 2 weeks of weather Nov 15 |  | 61 / 49\\xa0°F | Sunny. Nov 25 |  | 60 / 51\\xa0°F | Sunny. Nov 26 |  | 56 / 48\\xa0°F | Sunny. | * Updated Friday, November 15, 2024 1:24:06 pm San Francisco time - Weather by CustomWeather, © 2024 | Hour-by-hour weather for San Francisco next 7 days Sun & Moon times precise to the second. Time Zones Weather Calculators\"}]', name='tavily_search_results_json', id='b6061d06-f648-4345-9e1e-edd2f3f0d6c9', tool_call_id='call_3ehzoqSqwpcHgMB8W2kyC1Lx', artifact={'query': 'current weather in San Francisco', 'follow_up_questions': None, 'answer': None, 'images': [], 'results': [{'title': 'Weather in San Francisco', 'url': 'https://www.weatherapi.com/', 'content': \"{'location': {'name': 'San Francisco', 'region': 'California', 'country': 'United States of America', 'lat': 37.775, 'lon': -122.4183, 'tz_id': 'America/Los_Angeles', 'localtime_epoch': 1732455394, 'localtime': '2024-11-24 05:36'}, 'current': {'last_updated_epoch': 1732455000, 'last_updated': '2024-11-24 05:30', 'temp_c': 7.8, 'temp_f': 46.0, 'is_day': 0, 'condition': {'text': 'Fog', 'icon': '//cdn.weatherapi.com/weather/64x64/night/248.png', 'code': 1135}, 'wind_mph': 5.1, 'wind_kph': 8.3, 'wind_degree': 160, 'wind_dir': 'SSE', 'pressure_mb': 1017.0, 'pressure_in': 30.03, 'precip_mm': 0.0, 'precip_in': 0.0, 'humidity': 89, 'cloud': 25, 'feelslike_c': 6.4, 'feelslike_f': 43.4, 'windchill_c': 9.1, 'windchill_f': 48.4, 'heatindex_c': 9.8, 'heatindex_f': 49.6, 'dewpoint_c': 8.2, 'dewpoint_f': 46.8, 'vis_km': 16.0, 'vis_miles': 9.0, 'uv': 0.0, 'gust_mph': 8.2, 'gust_kph': 13.2}}\", 'score': 0.9930697, 'raw_content': None}, {'title': 'San Francisco, USA 14 day weather forecast - timeanddate.com', 'url': 'https://www.timeanddate.com/weather/@z-us-94141/ext', 'content': 'San Francisco, USA 14 day weather forecast Time Zone News Calendar & Holiday News Time Zones Time Zones Home Time Zone News Calendar & Holiday News Weather Sun & Moon Home Sun Calculator Moon Calculator Calculators Calculators Home Home \\xa0 Weather \\xa0 San Francisco \\xa0 Two-week forecast Weather Time Zone Last 2 weeks of weather Nov 15 |  | 61 / 49\\xa0°F | Sunny. Nov 25 |  | 60 / 51\\xa0°F | Sunny. Nov 26 |  | 56 / 48\\xa0°F | Sunny. | * Updated Friday, November 15, 2024 1:24:06 pm San Francisco time - Weather by CustomWeather, © 2024 | Hour-by-hour weather for San Francisco next 7 days Sun & Moon times precise to the second. Time Zones Weather Calculators', 'score': 0.9851576, 'raw_content': None}], 'response_time': 3.07}),\n",
       " AIMessage(content='The current weather in San Francisco is as follows:\\n\\n- **Temperature**: 7.8°C (46°F)\\n- **Condition**: Fog\\n- **Wind**: 5.1 mph (8.3 kph) from the South-Southeast\\n- **Humidity**: 89%\\n- **Pressure**: 1017 mb\\n- **Visibility**: 16 km (9 miles)\\n\\nFor more detailed weather information, you can check [Weather API](https://www.weatherapi.com/) or [Time and Date](https://www.timeanddate.com/weather/@z-us-94141/ext).', additional_kwargs={'refusal': None}, response_metadata={'token_usage': {'completion_tokens': 128, 'prompt_tokens': 717, 'total_tokens': 845, 'completion_tokens_details': None, 'prompt_tokens_details': None}, 'model_name': 'gpt-4o-mini', 'system_fingerprint': 'fp_04751d0b65', 'prompt_filter_results': [{'prompt_index': 0, 'content_filter_results': {'hate': {'filtered': False, 'severity': 'safe'}, 'jailbreak': {'filtered': False, 'detected': False}, 'self_harm': {'filtered': False, 'severity': 'safe'}, 'sexual': {'filtered': False, 'severity': 'safe'}, 'violence': {'filtered': False, 'severity': 'safe'}}}], 'finish_reason': 'stop', 'logprobs': None, 'content_filter_results': {'hate': {'filtered': False, 'severity': 'safe'}, 'protected_material_code': {'filtered': False, 'detected': False}, 'protected_material_text': {'filtered': False, 'detected': False}, 'self_harm': {'filtered': False, 'severity': 'safe'}, 'sexual': {'filtered': False, 'severity': 'safe'}, 'violence': {'filtered': False, 'severity': 'safe'}}}, id='run-724dad55-ee8e-4dbd-a054-69358659f4e2-0', usage_metadata={'input_tokens': 717, 'output_tokens': 128, 'total_tokens': 845, 'input_token_details': {}, 'output_token_details': {}})]"
      ]
     },
     "execution_count": 10,
     "metadata": {},
     "output_type": "execute_result"
    }
   ],
   "source": [
    "response = agent_executor.invoke(\n",
    "    {\"messages\": [HumanMessage(content=\"whats the weather in sf?\")]}\n",
    ")\n",
    "\n",
    "response[\"messages\"]"
   ]
  },
  {
   "cell_type": "markdown",
   "metadata": {},
   "source": [
    "### 支援 Streaming"
   ]
  },
  {
   "cell_type": "markdown",
   "metadata": {},
   "source": [
    "#### Streaming Message\n",
    "\n",
    "使用 `stream()` 方法"
   ]
  },
  {
   "cell_type": "code",
   "execution_count": 11,
   "metadata": {},
   "outputs": [
    {
     "name": "stdout",
     "output_type": "stream",
     "text": [
      "{'agent': {'messages': [AIMessage(content='', additional_kwargs={'tool_calls': [{'id': 'call_3ehzoqSqwpcHgMB8W2kyC1Lx', 'function': {'arguments': '{\"query\":\"current weather San Francisco\"}', 'name': 'tavily_search_results_json'}, 'type': 'function'}], 'refusal': None}, response_metadata={'token_usage': {'completion_tokens': 21, 'prompt_tokens': 86, 'total_tokens': 107, 'completion_tokens_details': None, 'prompt_tokens_details': None}, 'model_name': 'gpt-4o-mini', 'system_fingerprint': 'fp_04751d0b65', 'prompt_filter_results': [{'prompt_index': 0, 'content_filter_results': {'hate': {'filtered': False, 'severity': 'safe'}, 'jailbreak': {'filtered': False, 'detected': False}, 'self_harm': {'filtered': False, 'severity': 'safe'}, 'sexual': {'filtered': False, 'severity': 'safe'}, 'violence': {'filtered': False, 'severity': 'safe'}}}], 'finish_reason': 'tool_calls', 'logprobs': None, 'content_filter_results': {}}, id='run-53a952cf-82d7-4a9b-8ccd-3114e5e42160-0', tool_calls=[{'name': 'tavily_search_results_json', 'args': {'query': 'current weather San Francisco'}, 'id': 'call_3ehzoqSqwpcHgMB8W2kyC1Lx', 'type': 'tool_call'}], usage_metadata={'input_tokens': 86, 'output_tokens': 21, 'total_tokens': 107, 'input_token_details': {}, 'output_token_details': {}})]}}\n",
      "----\n",
      "{'tools': {'messages': [ToolMessage(content='[{\"url\": \"https://www.weatherapi.com/\", \"content\": \"{\\'location\\': {\\'name\\': \\'San Francisco\\', \\'region\\': \\'California\\', \\'country\\': \\'United States of America\\', \\'lat\\': 37.775, \\'lon\\': -122.4183, \\'tz_id\\': \\'America/Los_Angeles\\', \\'localtime_epoch\\': 1732455394, \\'localtime\\': \\'2024-11-24 05:36\\'}, \\'current\\': {\\'last_updated_epoch\\': 1732455000, \\'last_updated\\': \\'2024-11-24 05:30\\', \\'temp_c\\': 7.8, \\'temp_f\\': 46.0, \\'is_day\\': 0, \\'condition\\': {\\'text\\': \\'Fog\\', \\'icon\\': \\'//cdn.weatherapi.com/weather/64x64/night/248.png\\', \\'code\\': 1135}, \\'wind_mph\\': 5.1, \\'wind_kph\\': 8.3, \\'wind_degree\\': 160, \\'wind_dir\\': \\'SSE\\', \\'pressure_mb\\': 1017.0, \\'pressure_in\\': 30.03, \\'precip_mm\\': 0.0, \\'precip_in\\': 0.0, \\'humidity\\': 89, \\'cloud\\': 25, \\'feelslike_c\\': 6.4, \\'feelslike_f\\': 43.4, \\'windchill_c\\': 9.1, \\'windchill_f\\': 48.4, \\'heatindex_c\\': 9.8, \\'heatindex_f\\': 49.6, \\'dewpoint_c\\': 8.2, \\'dewpoint_f\\': 46.8, \\'vis_km\\': 16.0, \\'vis_miles\\': 9.0, \\'uv\\': 0.0, \\'gust_mph\\': 8.2, \\'gust_kph\\': 13.2}}\"}, {\"url\": \"https://www.wunderground.com/history/daily/us/ca/san-francisco/KCASANFR1753/date/2024-11-24\", \"content\": \"San Francisco, CA Weather History | Weather Underground Sensor Network Maps & Radar Severe Weather News & Blogs Mobile Apps account_box Log in Go Ad Free_settings_ Settings Sensor NetworkMaps & RadarSevere WeatherNews & BlogsMobile AppsHistorical Weather Manhattan, NY _warning_47 °FPartly Cloudy St James\\'s, England, United Kingdom _warning_62 °FCloudy San Francisco, CA Weather History_star_rate__home_ 50\\xa0°F Metropolitan Oakland Intl Airport Station|Report Report Station Thank you for reporting this station. You are about to report this weather station for bad data. Station Offline Current Station Personal Weather Station Nearby Weather Stations Showing Stations Data Vendors We recognize our responsibility to use data and technology for good. We may use or share your data with our data vendors. Take control of your data.\"}]', name='tavily_search_results_json', id='896b1e4c-a170-4eae-8599-757eed06e9e7', tool_call_id='call_3ehzoqSqwpcHgMB8W2kyC1Lx', artifact={'query': 'current weather San Francisco', 'follow_up_questions': None, 'answer': None, 'images': [], 'results': [{'title': 'Weather in San Francisco', 'url': 'https://www.weatherapi.com/', 'content': \"{'location': {'name': 'San Francisco', 'region': 'California', 'country': 'United States of America', 'lat': 37.775, 'lon': -122.4183, 'tz_id': 'America/Los_Angeles', 'localtime_epoch': 1732455394, 'localtime': '2024-11-24 05:36'}, 'current': {'last_updated_epoch': 1732455000, 'last_updated': '2024-11-24 05:30', 'temp_c': 7.8, 'temp_f': 46.0, 'is_day': 0, 'condition': {'text': 'Fog', 'icon': '//cdn.weatherapi.com/weather/64x64/night/248.png', 'code': 1135}, 'wind_mph': 5.1, 'wind_kph': 8.3, 'wind_degree': 160, 'wind_dir': 'SSE', 'pressure_mb': 1017.0, 'pressure_in': 30.03, 'precip_mm': 0.0, 'precip_in': 0.0, 'humidity': 89, 'cloud': 25, 'feelslike_c': 6.4, 'feelslike_f': 43.4, 'windchill_c': 9.1, 'windchill_f': 48.4, 'heatindex_c': 9.8, 'heatindex_f': 49.6, 'dewpoint_c': 8.2, 'dewpoint_f': 46.8, 'vis_km': 16.0, 'vis_miles': 9.0, 'uv': 0.0, 'gust_mph': 8.2, 'gust_kph': 13.2}}\", 'score': 0.9860272, 'raw_content': None}, {'title': 'San Francisco, CA Weather History | Weather Underground', 'url': 'https://www.wunderground.com/history/daily/us/ca/san-francisco/KCASANFR1753/date/2024-11-24', 'content': \"San Francisco, CA Weather History | Weather Underground Sensor Network Maps & Radar Severe Weather News & Blogs Mobile Apps account_box Log in Go Ad Free_settings_ Settings Sensor NetworkMaps & RadarSevere WeatherNews & BlogsMobile AppsHistorical Weather Manhattan, NY _warning_47 °FPartly Cloudy St James's, England, United Kingdom _warning_62 °FCloudy San Francisco, CA Weather History_star_rate__home_ 50\\xa0°F Metropolitan Oakland Intl Airport Station|Report Report Station Thank you for reporting this station. You are about to report this weather station for bad data. Station Offline Current Station Personal Weather Station Nearby Weather Stations Showing Stations Data Vendors We recognize our responsibility to use data and technology for good. We may use or share your data with our data vendors. Take control of your data.\", 'score': 0.9856, 'raw_content': None}], 'response_time': 3.92})]}}\n",
      "----\n",
      "{'agent': {'messages': [AIMessage(content='The current weather in San Francisco is as follows:\\n\\n- **Temperature**: 7.8°C (46.0°F)\\n- **Condition**: Fog\\n- **Wind**: 5.1 mph (8.3 kph) from the SSE\\n- **Humidity**: 89%\\n- **Visibility**: 16 km (9 miles)\\n\\nIt feels like 6.4°C (43.4°F) outside. \\n\\nFor more detailed weather updates, you can check resources like [WeatherAPI](https://www.weatherapi.com/) or [Weather Underground](https://www.wunderground.com/history/daily/us/ca/san-francisco/KCASANFR1753/date/2024-11-24).', additional_kwargs={'refusal': None}, response_metadata={'token_usage': {'completion_tokens': 152, 'prompt_tokens': 727, 'total_tokens': 879, 'completion_tokens_details': None, 'prompt_tokens_details': None}, 'model_name': 'gpt-4o-mini', 'system_fingerprint': 'fp_04751d0b65', 'prompt_filter_results': [{'prompt_index': 0, 'content_filter_results': {'hate': {'filtered': False, 'severity': 'safe'}, 'jailbreak': {'filtered': False, 'detected': False}, 'self_harm': {'filtered': False, 'severity': 'safe'}, 'sexual': {'filtered': False, 'severity': 'safe'}, 'violence': {'filtered': False, 'severity': 'safe'}}}], 'finish_reason': 'stop', 'logprobs': None, 'content_filter_results': {'hate': {'filtered': False, 'severity': 'safe'}, 'protected_material_code': {'filtered': False, 'detected': False}, 'protected_material_text': {'filtered': False, 'detected': False}, 'self_harm': {'filtered': False, 'severity': 'safe'}, 'sexual': {'filtered': False, 'severity': 'safe'}, 'violence': {'filtered': False, 'severity': 'safe'}}}, id='run-8e81d5d8-bdc1-43b3-a53f-49de52b4751c-0', usage_metadata={'input_tokens': 727, 'output_tokens': 152, 'total_tokens': 879, 'input_token_details': {}, 'output_token_details': {}})]}}\n",
      "----\n"
     ]
    }
   ],
   "source": [
    "for chunk in agent_executor.stream(\n",
    "    {\"messages\": [HumanMessage(content=\"whats the weather in sf?\")]}\n",
    "):\n",
    "    print(chunk)\n",
    "    print(\"----\")"
   ]
  },
  {
   "cell_type": "markdown",
   "metadata": {},
   "source": [
    "#### Streaming Token\n",
    "\n",
    "使用 `astream_events()` 方法"
   ]
  },
  {
   "cell_type": "code",
   "execution_count": 12,
   "metadata": {},
   "outputs": [
    {
     "name": "stdout",
     "output_type": "stream",
     "text": [
      "--\n",
      "Starting tool: tavily_search_results_json with inputs: {'query': 'current weather in San Francisco'}\n",
      "Done tool: tavily_search_results_json\n",
      "Tool output was: content='[{\"url\": \"https://www.weatherapi.com/\", \"content\": \"{\\'location\\': {\\'name\\': \\'San Francisco\\', \\'region\\': \\'California\\', \\'country\\': \\'United States of America\\', \\'lat\\': 37.775, \\'lon\\': -122.4183, \\'tz_id\\': \\'America/Los_Angeles\\', \\'localtime_epoch\\': 1732455394, \\'localtime\\': \\'2024-11-24 05:36\\'}, \\'current\\': {\\'last_updated_epoch\\': 1732455000, \\'last_updated\\': \\'2024-11-24 05:30\\', \\'temp_c\\': 7.8, \\'temp_f\\': 46.0, \\'is_day\\': 0, \\'condition\\': {\\'text\\': \\'Fog\\', \\'icon\\': \\'//cdn.weatherapi.com/weather/64x64/night/248.png\\', \\'code\\': 1135}, \\'wind_mph\\': 5.1, \\'wind_kph\\': 8.3, \\'wind_degree\\': 160, \\'wind_dir\\': \\'SSE\\', \\'pressure_mb\\': 1017.0, \\'pressure_in\\': 30.03, \\'precip_mm\\': 0.0, \\'precip_in\\': 0.0, \\'humidity\\': 89, \\'cloud\\': 25, \\'feelslike_c\\': 6.4, \\'feelslike_f\\': 43.4, \\'windchill_c\\': 9.1, \\'windchill_f\\': 48.4, \\'heatindex_c\\': 9.8, \\'heatindex_f\\': 49.6, \\'dewpoint_c\\': 8.2, \\'dewpoint_f\\': 46.8, \\'vis_km\\': 16.0, \\'vis_miles\\': 9.0, \\'uv\\': 0.0, \\'gust_mph\\': 8.2, \\'gust_kph\\': 13.2}}\"}, {\"url\": \"https://www.timeanddate.com/weather/@z-us-94141/ext\", \"content\": \"San Francisco, USA 14 day weather forecast Time Zone News Calendar & Holiday News Time Zones Time Zones Home Time Zone News Calendar & Holiday News Weather Sun & Moon Home Sun Calculator Moon Calculator Calculators Calculators Home Home \\xa0 Weather \\xa0 San Francisco \\xa0 Two-week forecast Weather Time Zone Last 2 weeks of weather Nov 15 |  | 61 / 49\\xa0°F | Sunny. Nov 25 |  | 60 / 51\\xa0°F | Sunny. Nov 26 |  | 56 / 48\\xa0°F | Sunny. | * Updated Friday, November 15, 2024 1:24:06 pm San Francisco time - Weather by CustomWeather, © 2024 | Hour-by-hour weather for San Francisco next 7 days Sun & Moon times precise to the second. Time Zones Weather Calculators\"}]' name='tavily_search_results_json' tool_call_id='call_vfBeG1ZGThOnj1zdpO0DIh1m' artifact={'query': 'current weather in San Francisco', 'follow_up_questions': None, 'answer': None, 'images': [], 'results': [{'title': 'Weather in San Francisco', 'url': 'https://www.weatherapi.com/', 'content': \"{'location': {'name': 'San Francisco', 'region': 'California', 'country': 'United States of America', 'lat': 37.775, 'lon': -122.4183, 'tz_id': 'America/Los_Angeles', 'localtime_epoch': 1732455394, 'localtime': '2024-11-24 05:36'}, 'current': {'last_updated_epoch': 1732455000, 'last_updated': '2024-11-24 05:30', 'temp_c': 7.8, 'temp_f': 46.0, 'is_day': 0, 'condition': {'text': 'Fog', 'icon': '//cdn.weatherapi.com/weather/64x64/night/248.png', 'code': 1135}, 'wind_mph': 5.1, 'wind_kph': 8.3, 'wind_degree': 160, 'wind_dir': 'SSE', 'pressure_mb': 1017.0, 'pressure_in': 30.03, 'precip_mm': 0.0, 'precip_in': 0.0, 'humidity': 89, 'cloud': 25, 'feelslike_c': 6.4, 'feelslike_f': 43.4, 'windchill_c': 9.1, 'windchill_f': 48.4, 'heatindex_c': 9.8, 'heatindex_f': 49.6, 'dewpoint_c': 8.2, 'dewpoint_f': 46.8, 'vis_km': 16.0, 'vis_miles': 9.0, 'uv': 0.0, 'gust_mph': 8.2, 'gust_kph': 13.2}}\", 'score': 0.9950437, 'raw_content': None}, {'title': 'San Francisco, USA 14 day weather forecast - timeanddate.com', 'url': 'https://www.timeanddate.com/weather/@z-us-94141/ext', 'content': 'San Francisco, USA 14 day weather forecast Time Zone News Calendar & Holiday News Time Zones Time Zones Home Time Zone News Calendar & Holiday News Weather Sun & Moon Home Sun Calculator Moon Calculator Calculators Calculators Home Home \\xa0 Weather \\xa0 San Francisco \\xa0 Two-week forecast Weather Time Zone Last 2 weeks of weather Nov 15 |  | 61 / 49\\xa0°F | Sunny. Nov 25 |  | 60 / 51\\xa0°F | Sunny. Nov 26 |  | 56 / 48\\xa0°F | Sunny. | * Updated Friday, November 15, 2024 1:24:06 pm San Francisco time - Weather by CustomWeather, © 2024 | Hour-by-hour weather for San Francisco next 7 days Sun & Moon times precise to the second. Time Zones Weather Calculators', 'score': 0.98521465, 'raw_content': None}], 'response_time': 3.01}\n",
      "--\n",
      "The| current| weather| in| San| Francisco| is| as| follows|:\n",
      "\n",
      "|-| **|Temperature|:**| |7|.|8|°C| (|46|°F|)\n",
      "|-| **|Condition|:**| Fog|\n",
      "|-| **|Humidity|:**| |89|%\n",
      "|-| **|Wind|:**| |5|.|1| mph| (|8|.|3| k|ph|)| from| the| SSE|\n",
      "|-| **|Visibility|:**| |9| miles|\n",
      "|-| **|Feels| Like|:**| |6|.|4|°C| (|43|.|4|°F|)\n",
      "\n",
      "|For| more| detailed| forecasts|,| you| can| visit| [|Weather|API|](|https|://|www|.weather|api|.com|/)| or| [|Time|and|Date|](|https|://|www|.time|and|date|.com|/weather|/@|z|-us|-|941|41|/ext|).|"
     ]
    }
   ],
   "source": [
    "async for event in agent_executor.astream_events(\n",
    "    {\"messages\": [HumanMessage(content=\"whats the weather in sf?\")]}, version=\"v1\"\n",
    "):\n",
    "    kind = event[\"event\"]\n",
    "    if kind == \"on_chain_start\":\n",
    "        if (\n",
    "            event[\"name\"] == \"Agent\"\n",
    "        ):  # Was assigned when creating the agent with `.with_config({\"run_name\": \"Agent\"})`\n",
    "            print(\n",
    "                f\"Starting agent: {event['name']} with input: {event['data'].get('input')}\"\n",
    "            )\n",
    "    elif kind == \"on_chain_end\":\n",
    "        if (\n",
    "            event[\"name\"] == \"Agent\"\n",
    "        ):  # Was assigned when creating the agent with `.with_config({\"run_name\": \"Agent\"})`\n",
    "            print()\n",
    "            print(\"--\")\n",
    "            print(\n",
    "                f\"Done agent: {event['name']} with output: {event['data'].get('output')['output']}\"\n",
    "            )\n",
    "    if kind == \"on_chat_model_stream\":\n",
    "        content = event[\"data\"][\"chunk\"].content\n",
    "        if content:\n",
    "            # Empty content in the context of OpenAI means\n",
    "            # that the model is asking for a tool to be invoked.\n",
    "            # So we only print non-empty content\n",
    "            print(content, end=\"|\")\n",
    "    elif kind == \"on_tool_start\":\n",
    "        print(\"--\")\n",
    "        print(\n",
    "            f\"Starting tool: {event['name']} with inputs: {event['data'].get('input')}\"\n",
    "        )\n",
    "    elif kind == \"on_tool_end\":\n",
    "        print(f\"Done tool: {event['name']}\")\n",
    "        print(f\"Tool output was: {event['data'].get('output')}\")\n",
    "        print(\"--\")"
   ]
  },
  {
   "cell_type": "markdown",
   "metadata": {},
   "source": [
    "## 增加 memory 功能\n",
    "\n",
    "先前的 Agent 是無狀態的（stateless），我們可以加入 Thread_id ，來讀取先前的對話內容。"
   ]
  },
  {
   "cell_type": "code",
   "execution_count": 13,
   "metadata": {},
   "outputs": [],
   "source": [
    "from langgraph.checkpoint.memory import MemorySaver\n",
    "\n",
    "memory = MemorySaver()\n",
    "\n",
    "agent_executor = create_react_agent(model, tools, checkpointer=memory)\n",
    "\n",
    "config = {\"configurable\": {\"thread_id\": \"abc123\"}}"
   ]
  },
  {
   "cell_type": "markdown",
   "metadata": {},
   "source": [
    "### memory 測試範例"
   ]
  },
  {
   "cell_type": "markdown",
   "metadata": {},
   "source": [
    "#### 使用同一 Thread\n",
    "\n",
    "能記憶同一對話紀錄，記得我叫做 Bob"
   ]
  },
  {
   "cell_type": "code",
   "execution_count": 14,
   "metadata": {},
   "outputs": [
    {
     "name": "stdout",
     "output_type": "stream",
     "text": [
      "{'agent': {'messages': [AIMessage(content='Hello Bob! How can I assist you today?', additional_kwargs={'refusal': None}, response_metadata={'token_usage': {'completion_tokens': 11, 'prompt_tokens': 83, 'total_tokens': 94, 'completion_tokens_details': None, 'prompt_tokens_details': None}, 'model_name': 'gpt-4o-mini', 'system_fingerprint': 'fp_04751d0b65', 'prompt_filter_results': [{'prompt_index': 0, 'content_filter_results': {'hate': {'filtered': False, 'severity': 'safe'}, 'jailbreak': {'filtered': False, 'detected': False}, 'self_harm': {'filtered': False, 'severity': 'safe'}, 'sexual': {'filtered': False, 'severity': 'safe'}, 'violence': {'filtered': False, 'severity': 'safe'}}}], 'finish_reason': 'stop', 'logprobs': None, 'content_filter_results': {'hate': {'filtered': False, 'severity': 'safe'}, 'protected_material_code': {'filtered': False, 'detected': False}, 'protected_material_text': {'filtered': False, 'detected': False}, 'self_harm': {'filtered': False, 'severity': 'safe'}, 'sexual': {'filtered': False, 'severity': 'safe'}, 'violence': {'filtered': False, 'severity': 'safe'}}}, id='run-099456e7-6d0a-40ff-900d-caff55316baf-0', usage_metadata={'input_tokens': 83, 'output_tokens': 11, 'total_tokens': 94, 'input_token_details': {}, 'output_token_details': {}})]}}\n",
      "----\n"
     ]
    }
   ],
   "source": [
    "for chunk in agent_executor.stream(\n",
    "    {\"messages\": [HumanMessage(content=\"hi im bob!\")]}, config\n",
    "):\n",
    "    print(chunk)\n",
    "    print(\"----\")"
   ]
  },
  {
   "cell_type": "code",
   "execution_count": 15,
   "metadata": {},
   "outputs": [
    {
     "name": "stdout",
     "output_type": "stream",
     "text": [
      "{'agent': {'messages': [AIMessage(content='Your name is Bob! How can I help you today?', additional_kwargs={'refusal': None}, response_metadata={'token_usage': {'completion_tokens': 13, 'prompt_tokens': 106, 'total_tokens': 119, 'completion_tokens_details': None, 'prompt_tokens_details': None}, 'model_name': 'gpt-4o-mini', 'system_fingerprint': 'fp_04751d0b65', 'prompt_filter_results': [{'prompt_index': 0, 'content_filter_results': {}}], 'finish_reason': 'stop', 'logprobs': None, 'content_filter_results': {'hate': {'filtered': False, 'severity': 'safe'}, 'protected_material_code': {'filtered': False, 'detected': False}, 'protected_material_text': {'filtered': False, 'detected': False}, 'self_harm': {'filtered': False, 'severity': 'safe'}, 'sexual': {'filtered': False, 'severity': 'safe'}, 'violence': {'filtered': False, 'severity': 'safe'}}}, id='run-1309a8d8-ac78-4311-814d-4b4cb9112fba-0', usage_metadata={'input_tokens': 106, 'output_tokens': 13, 'total_tokens': 119, 'input_token_details': {}, 'output_token_details': {}})]}}\n",
      "----\n"
     ]
    }
   ],
   "source": [
    "for chunk in agent_executor.stream(\n",
    "    {\"messages\": [HumanMessage(content=\"whats my name?\")]}, config\n",
    "):\n",
    "    print(chunk)\n",
    "    print(\"----\")"
   ]
  },
  {
   "cell_type": "markdown",
   "metadata": {},
   "source": [
    "##### 覆蓋新的 Thread\n",
    "\n",
    "memory 就沒有我告訴它我叫 Bob 的記憶了"
   ]
  },
  {
   "cell_type": "code",
   "execution_count": 16,
   "metadata": {},
   "outputs": [
    {
     "name": "stdout",
     "output_type": "stream",
     "text": [
      "{'agent': {'messages': [AIMessage(content=\"I don't have access to personal information about you, including your name. If you'd like to share your name or any other details, feel free to do so!\", additional_kwargs={'refusal': None}, response_metadata={'token_usage': {'completion_tokens': 33, 'prompt_tokens': 84, 'total_tokens': 117, 'completion_tokens_details': None, 'prompt_tokens_details': None}, 'model_name': 'gpt-4o-mini', 'system_fingerprint': 'fp_04751d0b65', 'prompt_filter_results': [{'prompt_index': 0, 'content_filter_results': {'hate': {'filtered': False, 'severity': 'safe'}, 'jailbreak': {'filtered': False, 'detected': False}, 'self_harm': {'filtered': False, 'severity': 'safe'}, 'sexual': {'filtered': False, 'severity': 'safe'}, 'violence': {'filtered': False, 'severity': 'safe'}}}], 'finish_reason': 'stop', 'logprobs': None, 'content_filter_results': {'hate': {'filtered': False, 'severity': 'safe'}, 'self_harm': {'filtered': False, 'severity': 'safe'}, 'sexual': {'filtered': False, 'severity': 'safe'}, 'violence': {'filtered': False, 'severity': 'safe'}}}, id='run-fd97f9f6-be30-4a67-a1ba-e0375d7ed072-0', usage_metadata={'input_tokens': 84, 'output_tokens': 33, 'total_tokens': 117, 'input_token_details': {}, 'output_token_details': {}})]}}\n",
      "----\n"
     ]
    }
   ],
   "source": [
    "config = {\"configurable\": {\"thread_id\": \"xyz123\"}}\n",
    "\n",
    "for chunk in agent_executor.stream(\n",
    "    {\"messages\": [HumanMessage(content=\"whats my name?\")]}, config\n",
    "):\n",
    "    print(chunk)\n",
    "    print(\"----\")"
   ]
  }
 ],
 "metadata": {
  "kernelspec": {
   "display_name": "LangChainV02",
   "language": "python",
   "name": "python3"
  },
  "language_info": {
   "codemirror_mode": {
    "name": "ipython",
    "version": 3
   },
   "file_extension": ".py",
   "mimetype": "text/x-python",
   "name": "python",
   "nbconvert_exporter": "python",
   "pygments_lexer": "ipython3",
   "version": "3.12.7"
  }
 },
 "nbformat": 4,
 "nbformat_minor": 2
}
